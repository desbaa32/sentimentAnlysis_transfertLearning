{
 "cells": [
  {
   "cell_type": "code",
   "execution_count": 1,
   "id": "df25c042-6797-4140-b13f-e0fc176e40e6",
   "metadata": {},
   "outputs": [
    {
     "name": "stderr",
     "output_type": "stream",
     "text": [
      "[nltk_data] Downloading package stopwords to\n",
      "[nltk_data]     /home/tawfekh-d/nltk_data...\n",
      "[nltk_data]   Package stopwords is already up-to-date!\n",
      "[nltk_data] Downloading package punkt to /home/tawfekh-d/nltk_data...\n",
      "[nltk_data]   Package punkt is already up-to-date!\n",
      "[nltk_data] Downloading package wordnet to\n",
      "[nltk_data]     /home/tawfekh-d/nltk_data...\n",
      "[nltk_data]   Package wordnet is already up-to-date!\n",
      "[nltk_data] Downloading package averaged_perceptron_tagger to\n",
      "[nltk_data]     /home/tawfekh-d/nltk_data...\n",
      "[nltk_data]   Package averaged_perceptron_tagger is already up-to-\n",
      "[nltk_data]       date!\n",
      "[nltk_data] Downloading package universal_tagset to\n",
      "[nltk_data]     /home/tawfekh-d/nltk_data...\n",
      "[nltk_data]   Package universal_tagset is already up-to-date!\n"
     ]
    }
   ],
   "source": [
    "import re\n",
    "import numpy as np\n",
    "import pandas as pd\n",
    "import matplotlib.pyplot as plt\n",
    "import seaborn as sns\n",
    "import nltk\n",
    "import emoji\n",
    "nltk.download('stopwords')\n",
    "nltk.download('punkt')\n",
    "nltk.download('wordnet')\n",
    "nltk.download('averaged_perceptron_tagger')\n",
    "nltk.download('universal_tagset')\n",
    "from nltk.corpus import stopwords\n",
    "from nltk.tokenize import TweetTokenizer\n",
    "from nltk.stem import WordNetLemmatizer\n",
    "from nltk.tag import pos_tag\n",
    "from string import punctuation\n",
    "from unidecode import unidecode"
   ]
  },
  {
   "cell_type": "markdown",
   "id": "ca666ce8-461c-4d28-9ffc-035f8ebe9f83",
   "metadata": {},
   "source": [
    "# 1. MODEL FOR 3 Classes"
   ]
  },
  {
   "cell_type": "code",
   "execution_count": 2,
   "id": "b89299d5-a0d7-421c-93cf-8675f6d2837e",
   "metadata": {},
   "outputs": [],
   "source": [
    "#analysis_data1=pd.read_csv('twitter_training.csv',names=[\"Tweet ID\",\"entity\",\"sentiment\",\"Tweet content\"])\n",
    "column_names = [\"target\", \"id\", \"date\", \"flag\", \"user\", \"text\"]\n",
    "analysis_data1=pd.read_csv('data/twitter_dataset.csv')\n",
    "#encoding=\"ISO-8859-1\",names=column_names)\n",
    "\n",
    "\n",
    "def read_data(data):\n",
    "    print(\"Aperçu des données :\")\n",
    "    print(data.head(5))\n",
    "    # Afficher les informations sur le DataFrame\n",
    "    print(\"\\nInformations sur les données :\")\n",
    "    print(data.info())\n",
    "    print(\" \\n Taille : \\n\",data.shape)\n"
   ]
  },
  {
   "cell_type": "markdown",
   "id": "f798af68-796d-4e99-8a51-6f15d09d32d0",
   "metadata": {},
   "source": [
    "## Read data"
   ]
  },
  {
   "cell_type": "code",
   "execution_count": 3,
   "id": "fdeab7e6-6d6d-4965-b74a-86697fbc2700",
   "metadata": {},
   "outputs": [
    {
     "name": "stdout",
     "output_type": "stream",
     "text": [
      "----- Données d’apprentissage 3 classes --------- \n",
      "\n",
      "Aperçu des données :\n",
      "   Unnamed: 0                                              tweet  sentiment\n",
      "0           0  is upset that he can't update his Facebook by ...        0.0\n",
      "1           1  @Kenichan I dived many times for the ball. Man...        0.0\n",
      "2           2    my whole body feels itchy and like its on fire         0.0\n",
      "3           3  @nationwideclass no, it's not behaving at all....        0.0\n",
      "4           4                      @Kwesidei not the whole crew         0.0\n",
      "\n",
      "Informations sur les données :\n",
      "<class 'pandas.core.frame.DataFrame'>\n",
      "RangeIndex: 3142403 entries, 0 to 3142402\n",
      "Data columns (total 3 columns):\n",
      " #   Column      Dtype  \n",
      "---  ------      -----  \n",
      " 0   Unnamed: 0  int64  \n",
      " 1   tweet       object \n",
      " 2   sentiment   float64\n",
      "dtypes: float64(1), int64(1), object(1)\n",
      "memory usage: 71.9+ MB\n",
      "None\n",
      " \n",
      " Taille : \n",
      " (3142403, 3)\n"
     ]
    }
   ],
   "source": [
    "print(\"----- Données d’apprentissage 3 classes --------- \\n\")\n",
    "#analysis_data1=analysis_data1.drop(columns = ['Unnamed'], inplace = True)\n",
    "read_data(analysis_data1)\n"
   ]
  },
  {
   "cell_type": "code",
   "execution_count": 4,
   "id": "05e564e3-681a-4f30-9ca5-d08d1fbf9684",
   "metadata": {},
   "outputs": [
    {
     "name": "stdout",
     "output_type": "stream",
     "text": [
      "Aperçu des données :\n",
      "                                               tweet  sentiment\n",
      "0  is upset that he can't update his Facebook by ...        0.0\n",
      "1  @Kenichan I dived many times for the ball. Man...        0.0\n",
      "2    my whole body feels itchy and like its on fire         0.0\n",
      "3  @nationwideclass no, it's not behaving at all....        0.0\n",
      "4                      @Kwesidei not the whole crew         0.0\n",
      "\n",
      "Informations sur les données :\n",
      "<class 'pandas.core.frame.DataFrame'>\n",
      "RangeIndex: 3142403 entries, 0 to 3142402\n",
      "Data columns (total 2 columns):\n",
      " #   Column     Dtype  \n",
      "---  ------     -----  \n",
      " 0   tweet      object \n",
      " 1   sentiment  float64\n",
      "dtypes: float64(1), object(1)\n",
      "memory usage: 47.9+ MB\n",
      "None\n",
      " \n",
      " Taille : \n",
      " (3142403, 2)\n"
     ]
    }
   ],
   "source": [
    "analysis_data1 = analysis_data1.drop('Unnamed: 0', axis=1)\n",
    "read_data(analysis_data1)"
   ]
  },
  {
   "cell_type": "code",
   "execution_count": 5,
   "id": "5abc8538-7ebe-4094-aaae-0bfb83a05ce2",
   "metadata": {},
   "outputs": [
    {
     "data": {
      "text/html": [
       "<div>\n",
       "<style scoped>\n",
       "    .dataframe tbody tr th:only-of-type {\n",
       "        vertical-align: middle;\n",
       "    }\n",
       "\n",
       "    .dataframe tbody tr th {\n",
       "        vertical-align: top;\n",
       "    }\n",
       "\n",
       "    .dataframe thead th {\n",
       "        text-align: right;\n",
       "    }\n",
       "</style>\n",
       "<table border=\"1\" class=\"dataframe\">\n",
       "  <thead>\n",
       "    <tr style=\"text-align: right;\">\n",
       "      <th></th>\n",
       "      <th>sentiment</th>\n",
       "      <th>count</th>\n",
       "    </tr>\n",
       "  </thead>\n",
       "  <tbody>\n",
       "    <tr>\n",
       "      <th>0</th>\n",
       "      <td>0.0</td>\n",
       "      <td>1570067</td>\n",
       "    </tr>\n",
       "    <tr>\n",
       "      <th>1</th>\n",
       "      <td>1.0</td>\n",
       "      <td>1561529</td>\n",
       "    </tr>\n",
       "    <tr>\n",
       "      <th>2</th>\n",
       "      <td>2.0</td>\n",
       "      <td>10725</td>\n",
       "    </tr>\n",
       "  </tbody>\n",
       "</table>\n",
       "</div>"
      ],
      "text/plain": [
       "   sentiment    count\n",
       "0        0.0  1570067\n",
       "1        1.0  1561529\n",
       "2        2.0    10725"
      ]
     },
     "execution_count": 5,
     "metadata": {},
     "output_type": "execute_result"
    }
   ],
   "source": [
    "sentiment_value = analysis_data1['sentiment'].value_counts().reset_index()\n",
    "sentiment_value"
   ]
  },
  {
   "cell_type": "markdown",
   "id": "813cefc1-cb51-4eb8-a35b-1bf8967e740c",
   "metadata": {},
   "source": [
    "#### Reduction nombre enregistrement dataset"
   ]
  },
  {
   "cell_type": "code",
   "execution_count": 6,
   "id": "0b48812b-e646-4bf7-9f93-77dc53b0000d",
   "metadata": {},
   "outputs": [],
   "source": [
    "def reduced_dim(data,nb_positive,nb_negative,nb_neutre):\n",
    "    num_rows = {\n",
    "        0.0:nb_negative ,#570000,\n",
    "        1.0:nb_positive ,#560000,\n",
    "        2.0:nb_neutre, #10725  \n",
    "    }\n",
    "    data = data.groupby('sentiment').apply(lambda x: x.sample(num_rows[x.name]))\n",
    "    # Réinitialiser l'index du DataFrame\n",
    "    data = data.reset_index(drop=True)\n",
    "    return data\n"
   ]
  },
  {
   "cell_type": "code",
   "execution_count": 7,
   "id": "cc5a63a2-ad5c-4beb-9ae0-ae883137cf15",
   "metadata": {},
   "outputs": [
    {
     "name": "stdout",
     "output_type": "stream",
     "text": [
      "----- Données d’apprentissage 3 classes Apres reduction --------- \n",
      "\n",
      "Aperçu des données :\n",
      "                                               tweet  sentiment\n",
      "0  sadly i didnt laugh but singapore trending rem...        0.0\n",
      "1   urghhh dance recital and sickk i have no voiceee        0.0\n",
      "2                         @lainepgrey nope hes gone         0.0\n",
      "3  lol i nearly forgot about this friday i wanna ...        0.0\n",
      "4                                       Life's bad.         0.0\n",
      "\n",
      "Informations sur les données :\n",
      "<class 'pandas.core.frame.DataFrame'>\n",
      "RangeIndex: 210725 entries, 0 to 210724\n",
      "Data columns (total 2 columns):\n",
      " #   Column     Non-Null Count   Dtype  \n",
      "---  ------     --------------   -----  \n",
      " 0   tweet      210725 non-null  object \n",
      " 1   sentiment  210725 non-null  float64\n",
      "dtypes: float64(1), object(1)\n",
      "memory usage: 3.2+ MB\n",
      "None\n",
      " \n",
      " Taille : \n",
      " (210725, 2)\n"
     ]
    }
   ],
   "source": [
    "print(\"----- Données d’apprentissage 3 classes Apres reduction --------- \\n\")\n",
    "analysis_data1=reduced_dim(analysis_data1,100000,100000,10725)\n",
    "read_data(analysis_data1)"
   ]
  },
  {
   "cell_type": "code",
   "execution_count": 8,
   "id": "3b58a68d-718e-47e5-98cc-3a0047bf5816",
   "metadata": {},
   "outputs": [
    {
     "data": {
      "text/html": [
       "<div>\n",
       "<style scoped>\n",
       "    .dataframe tbody tr th:only-of-type {\n",
       "        vertical-align: middle;\n",
       "    }\n",
       "\n",
       "    .dataframe tbody tr th {\n",
       "        vertical-align: top;\n",
       "    }\n",
       "\n",
       "    .dataframe thead th {\n",
       "        text-align: right;\n",
       "    }\n",
       "</style>\n",
       "<table border=\"1\" class=\"dataframe\">\n",
       "  <thead>\n",
       "    <tr style=\"text-align: right;\">\n",
       "      <th></th>\n",
       "      <th>sentiment</th>\n",
       "      <th>count</th>\n",
       "    </tr>\n",
       "  </thead>\n",
       "  <tbody>\n",
       "    <tr>\n",
       "      <th>0</th>\n",
       "      <td>0.0</td>\n",
       "      <td>100000</td>\n",
       "    </tr>\n",
       "    <tr>\n",
       "      <th>1</th>\n",
       "      <td>1.0</td>\n",
       "      <td>100000</td>\n",
       "    </tr>\n",
       "    <tr>\n",
       "      <th>2</th>\n",
       "      <td>2.0</td>\n",
       "      <td>10725</td>\n",
       "    </tr>\n",
       "  </tbody>\n",
       "</table>\n",
       "</div>"
      ],
      "text/plain": [
       "   sentiment   count\n",
       "0        0.0  100000\n",
       "1        1.0  100000\n",
       "2        2.0   10725"
      ]
     },
     "execution_count": 8,
     "metadata": {},
     "output_type": "execute_result"
    }
   ],
   "source": [
    "sentiment_value = analysis_data1['sentiment'].value_counts().reset_index()\n",
    "sentiment_value"
   ]
  },
  {
   "cell_type": "markdown",
   "id": "a23d7ea2-af1b-4672-997c-2c8160858f72",
   "metadata": {},
   "source": [
    "## Preprocessing"
   ]
  },
  {
   "cell_type": "code",
   "execution_count": 9,
   "id": "b89f3b9d-6fe7-4e00-b007-7f973327325e",
   "metadata": {},
   "outputs": [],
   "source": [
    "emojis = {\n",
    "    \":*\": \"kiss\",\n",
    "    \":-*\": \"kiss\",\n",
    "    \":x\": \"kiss\",\n",
    "    \":-)\": \"happy\",\n",
    "    \":-))\": \"happy\",\n",
    "    \":-)))\": \"happy\",\n",
    "    \":-))))\": \"happy\",\n",
    "    \":-)))))\": \"happy\",\n",
    "    \":-))))))\": \"happy\",\n",
    "    \":)\": \"happy\",\n",
    "    \":))\": \"happy\",\n",
    "    \":)))\": \"happy\",\n",
    "    \":))))\": \"happy\",\n",
    "    \":)))))\": \"happy\",\n",
    "    \":))))))\": \"happy\",\n",
    "    \":)))))))\": \"happy\",\n",
    "    \":o)\": \"happy\",\n",
    "    \":]\": \"happy\",\n",
    "    \":3\": \"happy\",\n",
    "    \":c)\": \"happy\",\n",
    "    \":>\": \"happy\",\n",
    "    \"=]\": \"happy\",\n",
    "    \"8)\": \"happy\",\n",
    "    \"=)\": \"happy\",\n",
    "    \":}\": \"happy\",\n",
    "    \":^)\": \"happy\",\n",
    "    \"|;-)\": \"happy\",\n",
    "    \":'-)\": \"happy\",\n",
    "    \":')\": \"happy\",\n",
    "    \"\\\\o/\": \"happy\",\n",
    "    \"*\\\\0/*\": \"happy\",\n",
    "    \":-D\": \"laugh\",\n",
    "    \":D\": \"laugh\",\n",
    "    \"8-D\": \"laugh\",\n",
    "    \"8D\": \"laugh\",\n",
    "    \"x-D\": \"laugh\",\n",
    "    \"xD\": \"laugh\",\n",
    "    \"X-D\": \"laugh\",\n",
    "    \"XD\": \"laugh\",\n",
    "    \"=-D\": \"laugh\",\n",
    "    \"=D\": \"laugh\",\n",
    "    \"=-3\": \"laugh\",\n",
    "    \"=3\": \"laugh\",\n",
    "    \"B^D\": \"laugh\",\n",
    "    \">:[\": \"sad\",\n",
    "    \":-(\": \"sad\",\n",
    "    \":-((\": \"sad\",\n",
    "    \":-(((\": \"sad\",\n",
    "    \":-((((\": \"sad\",\n",
    "    \":-(((((\": \"sad\",\n",
    "    \":-((((((\": \"sad\",\n",
    "    \":-(((((((\": \"sad\",\n",
    "    \":(\": \"sad\",\n",
    "    \":((\": \"sad\",\n",
    "    \":(((\": \"sad\",\n",
    "    \":((((\": \"sad\",\n",
    "    \":(((((\": \"sad\",\n",
    "    \":((((((\": \"sad\",\n",
    "    \":(((((((\": \"sad\",\n",
    "    \":((((((((\": \"sad\",\n",
    "    \":-c\": \"sad\",\n",
    "    \":c\": \"sad\",\n",
    "    \":-<\": \"sad\",\n",
    "    \":<\": \"sad\",\n",
    "    \":-[\": \"sad\",\n",
    "    \":[\": \"sad\",\n",
    "    \":{\": \"sad\",\n",
    "    \":-||\": \"sad\",\n",
    "    \":@\": \"sad\",\n",
    "    \":'-(\": \"sad\",\n",
    "    \":'(\": \"sad\",\n",
    "    \"D:<\": \"sad\",\n",
    "    \"D:\": \"sad\",\n",
    "    \"D8\": \"sad\",\n",
    "    \"D;\": \"sad\",\n",
    "    \"D=\": \"sad\",\n",
    "    \"DX\": \"sad\",\n",
    "    \"v.v\": \"sad\",\n",
    "    \"D-':\": \"sad\",\n",
    "    \"(>_<)\": \"sad\",\n",
    "    \":|\": \"sad\",\n",
    "    \">:O\": \"surprise\",\n",
    "    \":-O\": \"surprise\",\n",
    "    \":-o\": \"surprise\",\n",
    "    \":O\": \"surprise\",\n",
    "    \"°o°\": \"surprise\",\n",
    "    \"o_O\": \"surprise\",\n",
    "    \"o_0\": \"surprise\",\n",
    "    \"o.O\": \"surprise\",\n",
    "    \"o-o\": \"surprise\",\n",
    "    \"8-0\": \"surprise\",\n",
    "    \"|-O\": \"surprise\",\n",
    "    \";-)\": \"wink\",\n",
    "    \";)\": \"wink\",\n",
    "    \"*-)\": \"wink\",\n",
    "    \"*)\": \"wink\",\n",
    "    \";-]\": \"wink\",\n",
    "    \";]\": \"wink\",\n",
    "    \";D\": \"wink\",\n",
    "    \";^)\": \"wink\",\n",
    "    \":-,\": \"wink\",\n",
    "    \">:P\": \"tong\",\n",
    "    \":-P\": \"tong\",\n",
    "    \":P\": \"tong\",\n",
    "    \"X-P\": \"tong\",\n",
    "    \"x-p\": \"tong\",\n",
    "    \"xp\": \"tong\",\n",
    "    \"XP\": \"tong\",\n",
    "    \":-p\": \"tong\",\n",
    "    \":p\": \"tong\",\n",
    "    \"=p\": \"tong\",\n",
    "    \":-Þ\": \"tong\",\n",
    "    \":Þ\": \"tong\",\n",
    "    \":-b\": \"tong\",\n",
    "    \":b\": \"tong\",\n",
    "    \":-&\": \"tong\",\n",
    "    \">:\\\\\": \"annoyed\",\n",
    "    \">:/\": \"annoyed\",\n",
    "    \":-/\": \"annoyed\",\n",
    "    \":-.\": \"annoyed\",\n",
    "    \":/\": \"annoyed\",\n",
    "    \":\\\\\": \"annoyed\",\n",
    "    \"=/\": \"annoyed\",\n",
    "    \"=\\\\\": \"annoyed\",\n",
    "    \":L\": \"annoyed\",\n",
    "    \"=L\": \"annoyed\",\n",
    "    \":S\": \"annoyed\",\n",
    "    \">.<\": \"annoyed\",\n",
    "    \":-|\": \"annoyed\",\n",
    "    \"<:-|\": \"annoyed\",\n",
    "    \":-X\": \"seallips\",\n",
    "    \":X\": \"seallips\",\n",
    "    \":-#\": \"seallips\",\n",
    "    \":#\": \"seallips\",\n",
    "    \"O:-)\": \"angel\",\n",
    "    \"0:-3\": \"angel\",\n",
    "    \"0:3\": \"angel\",\n",
    "    \"0:-)\": \"angel\",\n",
    "    \"0:)\": \"angel\",\n",
    "    \"0;^)\": \"angel\",\n",
    "    \">:)\": \"devil\",\n",
    "    \">:D\": \"devil\",\n",
    "    \">:-D\": \"devil\",\n",
    "    \">;)\": \"devil\",\n",
    "    \">:-)\": \"devil\",\n",
    "    \"}:-)\": \"devil\",\n",
    "    \"}:)\": \"devil\",\n",
    "    \"3:-)\": \"devil\",\n",
    "    \"3:)\": \"devil\",\n",
    "    \"o/\\\\o\": \"highfive\",\n",
    "    \"^5\": \"highfive\",\n",
    "    \">_>^\": \"highfive\",\n",
    "    \"^<_<\": \"highfive\",\n",
    "    \"<3\": \"heart\",\n",
    "    \"*:\": \"kiss\",\n",
    "    \"*-:\": \"kiss\",\n",
    "    \"x:\": \"kiss\",\n",
    "    \"(-:\": \"happy\",\n",
    "    \"((-:\": \"happy\",\n",
    "    \"(((-:\": \"happy\",\n",
    "    \"((((-:\": \"happy\",\n",
    "    \"(((((-:\": \"happy\",\n",
    "    \"((((((-:\": \"happy\",\n",
    "    \"(:\": \"happy\",\n",
    "    \"((:\": \"happy\",\n",
    "    \"(((:\": \"happy\",\n",
    "    \"((((:\": \"happy\",\n",
    "    \"(((((:\": \"happy\",\n",
    "    \"((((((:\": \"happy\",\n",
    "    \"(((((((:\": \"happy\",\n",
    "    \"(o:\": \"happy\",\n",
    "    \"[:\": \"happy\",\n",
    "    \"<:\": \"happy\",\n",
    "    \"[=\": \"happy\",\n",
    "    \"(=\": \"happy\",\n",
    "    \"{:\": \"happy\",\n",
    "    \"(-':\": \"happy\",\n",
    "    \"(':\": \"happy\",\n",
    "    \"]:<\": \"sad\",\n",
    "    \")-:\": \"sad\",\n",
    "    \"))-:\": \"sad\",\n",
    "    \")))-:\": \"sad\",\n",
    "    \"))))-:\": \"sad\",\n",
    "    \")))))-:\": \"sad\",\n",
    "    \"))))))-:\": \"sad\",\n",
    "    \")))))))-:\": \"sad\",\n",
    "    \"):\": \"sad\",\n",
    "    \")):\": \"sad\",\n",
    "    \"))):\": \"sad\",\n",
    "    \")))):\": \"sad\",\n",
    "    \"))))):\": \"sad\",\n",
    "    \")))))):\": \"sad\",\n",
    "    \"))))))):\": \"sad\",\n",
    "    \")))))))):\": \"sad\",\n",
    "    \">-:\": \"sad\",\n",
    "    \">:\": \"sad\",\n",
    "    \"]-:\": \"sad\",\n",
    "    \"]:\": \"sad\",\n",
    "    \"}:\": \"sad\",\n",
    "    \"||-:\": \"sad\",\n",
    "    \"@:\": \"sad\",\n",
    "    \")-':\": \"sad\",\n",
    "    \")':\": \"sad\",\n",
    "    \"|:\": \"sad\",\n",
    "    \"O:<\": \"surprise\",\n",
    "    \"O-:\": \"surprise\",\n",
    "    \"o-:\": \"surprise\",\n",
    "    \"O:\": \"surprise\",\n",
    "    \".-:\": \"annoyed\",\n",
    "    \"|-:\": \"annoyed\",\n",
    "    \"|-:>\": \"annoyed\",\n",
    "    \"#-:\": \"seallips\",\n",
    "    \"#:\": \"seallips\",\n",
    "    \"(-:O\": \"angel\",\n",
    "    \"(-:0\": \"angel\",\n",
    "    \"(:0\": \"angel\",\n",
    "    \"(:<\": \"devil\",\n",
    "    \"(-:<\": \"devil\",\n",
    "    \"(-:{\": \"devil\",\n",
    "    \"(:{\": \"devil\",\n",
    "    \":-d\": \"laugh\",\n",
    "    \":d\": \"laugh\",\n",
    "    \"8-d\": \"laugh\",\n",
    "    \"8d\": \"laugh\",\n",
    "    \"x-d\": \"laugh\",\n",
    "    \"xd\": \"laugh\",\n",
    "    \"=-d\": \"laugh\",\n",
    "    \"=d\": \"laugh\",\n",
    "    \"b^d\": \"laugh\",\n",
    "    \"d:<\": \"sad\",\n",
    "    \"d:\": \"sad\",\n",
    "    \"d8\": \"sad\",\n",
    "    \"d;\": \"sad\",\n",
    "    \"d=\": \"sad\",\n",
    "    \"dx\": \"sad\",\n",
    "    \"d-':\": \"sad\",\n",
    "    \">:o\": \"surprise\",\n",
    "    \":o\": \"surprise\",\n",
    "    \"o_o\": \"surprise\",\n",
    "    \"o.o\": \"surprise\",\n",
    "    \"|-o\": \"surprise\",\n",
    "    \";d\": \"wink\",\n",
    "    \">:p\": \"tong\",\n",
    "    \":-þ\": \"tong\",\n",
    "    \":þ\": \"tong\",\n",
    "    \":l\": \"annoyed\",\n",
    "    \"=l\": \"annoyed\",\n",
    "    \":s\": \"annoyed\",\n",
    "    \":-x\": \"seallips\",\n",
    "    \"o:-)\": \"angel\",\n",
    "    \">:d\": \"devil\",\n",
    "    \">:-d\": \"devil\",\n",
    "    \"o:<\": \"surprise\",\n",
    "    \"o:\": \"surprise\",\n",
    "    \"(-:o\": \"angel\"\n",
    "}\n",
    "def str2emoji(tweet):\n",
    "    for pos,ej in enumerate(tweet):\n",
    "        if ej in emojis:\n",
    "            tweet[pos]=emojis[ej]\n",
    "    return tweet"
   ]
  },
  {
   "cell_type": "code",
   "execution_count": 10,
   "id": "cbb22e9d-3c92-49b2-b36d-d48c54010522",
   "metadata": {},
   "outputs": [],
   "source": [
    "lemmatizer = WordNetLemmatizer()\n",
    "tokenizer = TweetTokenizer()\n",
    "nonstopwords = set(('not','no','nor','never'))\n",
    "stopwords = set(stopwords.words('english'))-nonstopwords"
   ]
  },
  {
   "cell_type": "markdown",
   "id": "7f6f01f5-fad6-4fc9-9317-33eb46e78aec",
   "metadata": {},
   "source": [
    "### supression valeur null"
   ]
  },
  {
   "cell_type": "code",
   "execution_count": 11,
   "id": "d0a8cfcc-70f2-4c0d-86d9-916ef710c78d",
   "metadata": {},
   "outputs": [
    {
     "name": "stdout",
     "output_type": "stream",
     "text": [
      "___________-Index of Nan_value : \n",
      " Index([], dtype='int64')\n",
      "___________-number of Nan_value : \n",
      " False    210725\n",
      "Name: count, dtype: int64\n",
      "____________After dropping nan_value :\n",
      " Index([], dtype='int64')\n"
     ]
    }
   ],
   "source": [
    "#-------------------ESSAYER D\"AFFICHER LISTE AU LIEU INDEX________________\n",
    "def dropNan_value(data):\n",
    "    index_with_nan = data.index[data.isnull().any(axis=1)]\n",
    "    print(\"___________-Index of Nan_value : \\n\",index_with_nan)\n",
    "    print(\"___________-number of Nan_value : \\n\",data.isnull().any(axis=1).value_counts())\n",
    "    \n",
    "   # print(data.shape())\n",
    "    data = data.dropna()  # Drop rows with any NaN values\n",
    "    print(\"____________After dropping nan_value :\\n\",data.index[data.isnull().any(axis=1)])\n",
    "   # print(data.shape())\n",
    "    return data\n",
    "analysis_data1=dropNan_value(analysis_data1)"
   ]
  },
  {
   "cell_type": "markdown",
   "id": "3451bf3f-1da4-4174-8c23-2adf591e8437",
   "metadata": {},
   "source": [
    "### Normalisation =>Tokenisation => Lemmatization =>Pos tagging"
   ]
  },
  {
   "cell_type": "code",
   "execution_count": 12,
   "id": "e34ef47c-6cb7-4e92-a027-4cfc97ef0eb2",
   "metadata": {},
   "outputs": [],
   "source": [
    "def preprocess(txt):\n",
    "    #txt = txt.lower() # Convert to lowercase\n",
    "    txt = re.sub(r\"\\\\u2019\",\"'\",txt)\n",
    "    txt = re.sub(r\"\\\\u002c\",\"'\",txt)\n",
    "    txt = ' '.join(str2emoji(unidecode(txt).lower().split()))\n",
    "    txt = re.sub(r'http\\S+', '', txt)\n",
    "    txt = re.sub(r'\\S+@\\S+', '', txt)\n",
    "    txt = re.sub(r'\\d{1,2}/\\d{1,2}/\\d{4}', '', txt)\n",
    "    txt = re.sub(r\"\\'ve\",\"have\",txt)\n",
    "    txt = re.sub(r\"can\\'t\",\"cannot\",txt)\n",
    "    txt = re.sub(r\"n\\'t\",\"not\",txt)\n",
    "    txt = re.sub(r\"\\'re\",\"are\",txt)\n",
    "    txt = re.sub(r\"\\'d\",\"would\",txt)\n",
    "    txt = re.sub(r\"\\'ll\",\"will\",txt)\n",
    "    txt = re.sub(r\"\\'s\",\"\",txt)\n",
    "    txt = re.sub(r\"\\'n\",\"\",txt)\n",
    "    txt = re.sub(r\"\\'m\",\"am\",txt)\n",
    "    txt = re.sub(r'@\\w+', '', txt)\n",
    "    txt = re.sub(r'#\\w+', '', txt)\n",
    "    txt = re.sub(r'[0-9]+', ' ', txt)\n",
    "    txt = re.sub('[^a-zA-Z]', ' ', txt)\n",
    "    txt = [lemmatizer.lemmatize(i,j[0].lower()) if j[0].lower() in ['a','n','v'] else\n",
    "    lemmatizer.lemmatize(i) for i,j in pos_tag(tokenizer.tokenize(txt))]\n",
    "    txt = [i for i in txt if (i not in stopwords) and (i not in punctuation)]\n",
    "    txt = ' '.join(txt)\n",
    "    return txt"
   ]
  },
  {
   "cell_type": "code",
   "execution_count": 13,
   "id": "0a773593-0a46-478c-8f01-5967d22d3c17",
   "metadata": {},
   "outputs": [],
   "source": [
    "def data_preprocessing(data,tweet):\n",
    "    data['tweet_desc']=data[tweet].apply(lambda x:preprocess(x))\n",
    "    return data['tweet_desc']"
   ]
  },
  {
   "cell_type": "code",
   "execution_count": 14,
   "id": "6e273648-8f20-43eb-a32e-8eab1575c806",
   "metadata": {},
   "outputs": [
    {
     "data": {
      "text/html": [
       "<div>\n",
       "<style scoped>\n",
       "    .dataframe tbody tr th:only-of-type {\n",
       "        vertical-align: middle;\n",
       "    }\n",
       "\n",
       "    .dataframe tbody tr th {\n",
       "        vertical-align: top;\n",
       "    }\n",
       "\n",
       "    .dataframe thead th {\n",
       "        text-align: right;\n",
       "    }\n",
       "</style>\n",
       "<table border=\"1\" class=\"dataframe\">\n",
       "  <thead>\n",
       "    <tr style=\"text-align: right;\">\n",
       "      <th></th>\n",
       "      <th>tweet</th>\n",
       "      <th>sentiment</th>\n",
       "    </tr>\n",
       "  </thead>\n",
       "  <tbody>\n",
       "    <tr>\n",
       "      <th>0</th>\n",
       "      <td>sadly i didnt laugh but singapore trending rem...</td>\n",
       "      <td>0.0</td>\n",
       "    </tr>\n",
       "    <tr>\n",
       "      <th>1</th>\n",
       "      <td>urghhh dance recital and sickk i have no voiceee</td>\n",
       "      <td>0.0</td>\n",
       "    </tr>\n",
       "    <tr>\n",
       "      <th>2</th>\n",
       "      <td>@lainepgrey nope hes gone</td>\n",
       "      <td>0.0</td>\n",
       "    </tr>\n",
       "    <tr>\n",
       "      <th>3</th>\n",
       "      <td>lol i nearly forgot about this friday i wanna ...</td>\n",
       "      <td>0.0</td>\n",
       "    </tr>\n",
       "    <tr>\n",
       "      <th>4</th>\n",
       "      <td>Life's bad.</td>\n",
       "      <td>0.0</td>\n",
       "    </tr>\n",
       "  </tbody>\n",
       "</table>\n",
       "</div>"
      ],
      "text/plain": [
       "                                               tweet  sentiment\n",
       "0  sadly i didnt laugh but singapore trending rem...        0.0\n",
       "1   urghhh dance recital and sickk i have no voiceee        0.0\n",
       "2                         @lainepgrey nope hes gone         0.0\n",
       "3  lol i nearly forgot about this friday i wanna ...        0.0\n",
       "4                                       Life's bad.         0.0"
      ]
     },
     "execution_count": 14,
     "metadata": {},
     "output_type": "execute_result"
    }
   ],
   "source": [
    "analysis_data1.head()"
   ]
  },
  {
   "cell_type": "code",
   "execution_count": 19,
   "id": "4a3d791a-5dc9-4a7b-84b6-c9c1898c0771",
   "metadata": {},
   "outputs": [],
   "source": [
    "tweet_preprocessed1=data_preprocessing(analysis_data1,'tweet')\n",
    "analysis_data1.to_csv('data/twitter_dataset3_preprocessed.csv',index='false')"
   ]
  },
  {
   "cell_type": "code",
   "execution_count": 21,
   "id": "94ebe68a-b90d-4195-8d3b-a31a726ea83e",
   "metadata": {},
   "outputs": [
    {
     "name": "stdout",
     "output_type": "stream",
     "text": [
      "\n",
      " ----- Affiche tweet apres pretraitement des tweets --------- \n",
      " DATASET avec 3 Classes\n",
      "                                               tweet  sentiment  \\\n",
      "0  sadly i didnt laugh but singapore trending rem...        0.0   \n",
      "1   urghhh dance recital and sickk i have no voiceee        0.0   \n",
      "2                         @lainepgrey nope hes gone         0.0   \n",
      "\n",
      "                                          tweet_desc  \\\n",
      "0  sadly didnt laugh singapore trending remind do...   \n",
      "1              urghhh dance recital sickk no voiceee   \n",
      "2                                        nope hes go   \n",
      "\n",
      "                                  tweet_preprocessed  \n",
      "0  sadly didnt laugh singapore trending remind do...  \n",
      "1              urghhh dance recital sickk no voiceee  \n",
      "2                                        nope hes go  \n"
     ]
    }
   ],
   "source": [
    "print(\"\\n ----- Affiche tweet apres pretraitement des tweets --------- \\n DATASET avec 3 Classes\")\n",
    "print(analysis_data1.head(3))"
   ]
  },
  {
   "cell_type": "code",
   "execution_count": 22,
   "id": "77155e9a-a2de-4609-8206-72f1d6579507",
   "metadata": {},
   "outputs": [
    {
     "data": {
      "text/html": [
       "<div>\n",
       "<style scoped>\n",
       "    .dataframe tbody tr th:only-of-type {\n",
       "        vertical-align: middle;\n",
       "    }\n",
       "\n",
       "    .dataframe tbody tr th {\n",
       "        vertical-align: top;\n",
       "    }\n",
       "\n",
       "    .dataframe thead th {\n",
       "        text-align: right;\n",
       "    }\n",
       "</style>\n",
       "<table border=\"1\" class=\"dataframe\">\n",
       "  <thead>\n",
       "    <tr style=\"text-align: right;\">\n",
       "      <th></th>\n",
       "      <th>sentiment</th>\n",
       "      <th>count</th>\n",
       "    </tr>\n",
       "  </thead>\n",
       "  <tbody>\n",
       "    <tr>\n",
       "      <th>0</th>\n",
       "      <td>0.0</td>\n",
       "      <td>100000</td>\n",
       "    </tr>\n",
       "    <tr>\n",
       "      <th>1</th>\n",
       "      <td>1.0</td>\n",
       "      <td>100000</td>\n",
       "    </tr>\n",
       "    <tr>\n",
       "      <th>2</th>\n",
       "      <td>2.0</td>\n",
       "      <td>10725</td>\n",
       "    </tr>\n",
       "  </tbody>\n",
       "</table>\n",
       "</div>"
      ],
      "text/plain": [
       "   sentiment   count\n",
       "0        0.0  100000\n",
       "1        1.0  100000\n",
       "2        2.0   10725"
      ]
     },
     "execution_count": 22,
     "metadata": {},
     "output_type": "execute_result"
    }
   ],
   "source": [
    "target_df = analysis_data1['sentiment'].value_counts().reset_index()\n",
    "target_df"
   ]
  },
  {
   "cell_type": "code",
   "execution_count": 23,
   "id": "f7de1bb4-4411-4d8e-aab3-9852ae2ffbab",
   "metadata": {},
   "outputs": [
    {
     "name": "stdout",
     "output_type": "stream",
     "text": [
      "--->  [0. 1. 2.]\n"
     ]
    }
   ],
   "source": [
    "print('---> ',analysis_data1['sentiment'].unique())\n"
   ]
  },
  {
   "cell_type": "markdown",
   "id": "d9e17cd5-6e69-4e12-95b3-3fd7bbc885be",
   "metadata": {},
   "source": [
    "## TOKENIZATION & PADDING  -AND split data"
   ]
  },
  {
   "cell_type": "markdown",
   "id": "a9de9efa-52ee-4d77-bc33-aee6d95f6610",
   "metadata": {},
   "source": [
    "### TOKENIZATION & PADDING "
   ]
  },
  {
   "cell_type": "code",
   "execution_count": 24,
   "id": "1ecdeef4-7801-46e3-8356-738474383a01",
   "metadata": {},
   "outputs": [
    {
     "name": "stderr",
     "output_type": "stream",
     "text": [
      "2024-04-19 15:27:53.469941: E external/local_xla/xla/stream_executor/cuda/cuda_dnn.cc:9261] Unable to register cuDNN factory: Attempting to register factory for plugin cuDNN when one has already been registered\n",
      "2024-04-19 15:27:53.470074: E external/local_xla/xla/stream_executor/cuda/cuda_fft.cc:607] Unable to register cuFFT factory: Attempting to register factory for plugin cuFFT when one has already been registered\n",
      "2024-04-19 15:27:53.558432: E external/local_xla/xla/stream_executor/cuda/cuda_blas.cc:1515] Unable to register cuBLAS factory: Attempting to register factory for plugin cuBLAS when one has already been registered\n",
      "2024-04-19 15:27:53.773633: I tensorflow/core/platform/cpu_feature_guard.cc:182] This TensorFlow binary is optimized to use available CPU instructions in performance-critical operations.\n",
      "To enable the following instructions: AVX2 FMA, in other operations, rebuild TensorFlow with the appropriate compiler flags.\n",
      "2024-04-19 15:27:55.582417: W tensorflow/compiler/tf2tensorrt/utils/py_utils.cc:38] TF-TRT Warning: Could not find TensorRT\n"
     ]
    }
   ],
   "source": [
    "from keras.preprocessing.text import Tokenizer\n",
    "from keras.preprocessing.sequence import pad_sequences\n",
    "\n",
    "MAX_LEN=95\n",
    "def tokenize_pad_sequences(text):\n",
    "    # Text tokenization\n",
    "    tokenizer = Tokenizer(filters=' ')\n",
    "    tokenizer.fit_on_texts(tweet_preprocessed1)\n",
    "    word_index=tokenizer.word_index\n",
    "    # Transforms text to a sequence of integers\n",
    "    X = tokenizer.texts_to_sequences(text)\n",
    "    X = pad_sequences(X,maxlen=MAX_LEN)\n",
    "    # return sequences\n",
    "    return X, tokenizer,word_index\n",
    "\n",
    "def show_tokenize_pad_sequences(text):\n",
    "    print('Before Tokenization & Padding \\n', text[0])\n",
    "    X, tokenizer,word_index = tokenize_pad_sequences(text)\n",
    "    print('After Tokenization & Padding \\n', X[0])"
   ]
  },
  {
   "cell_type": "code",
   "execution_count": 25,
   "id": "9654f0a9-50bb-4a39-93cc-a760891435d7",
   "metadata": {},
   "outputs": [
    {
     "name": "stdout",
     "output_type": "stream",
     "text": [
      "Before Tokenization & Padding \n",
      " sadly didnt laugh singapore trending remind dont live no\n",
      "After Tokenization & Padding \n",
      " [   0    0    0    0    0    0    0    0    0    0    0    0    0    0\n",
      "    0    0    0    0    0    0    0    0    0    0    0    0    0    0\n",
      "    0    0    0    0    0    0    0    0    0    0    0    0    0    0\n",
      "    0    0    0    0    0    0    0    0    0    0    0    0    0    0\n",
      "    0    0    0    0    0    0    0    0    0    0    0    0    0    0\n",
      "    0    0    0    0    0    0    0    0    0    0    0    0    0    0\n",
      "    0    0  799  328  239 1995 3740  807  100  146    8]\n"
     ]
    }
   ],
   "source": [
    "X1=analysis_data1['tweet_desc']\n",
    "Y1=analysis_data1['sentiment']\n",
    "X1, tokenizer,word_index1 = tokenize_pad_sequences(X1)\n",
    "show_tokenize_pad_sequences(tweet_preprocessed1)"
   ]
  },
  {
   "cell_type": "code",
   "execution_count": 26,
   "id": "d6928093-2735-4639-b3d4-5b321adde0a5",
   "metadata": {},
   "outputs": [
    {
     "name": "stdout",
     "output_type": "stream",
     "text": [
      "X_1.shape: (210725, 95)\n",
      "Vocabulary Size : 75475\n"
     ]
    }
   ],
   "source": [
    "print(\"X_1.shape:\", X1.shape)\n",
    "word_index = tokenizer.word_index\n",
    "vocab_size = len(tokenizer.word_index) + 1\n",
    "print(\"Vocabulary Size :\", vocab_size)"
   ]
  },
  {
   "cell_type": "code",
   "execution_count": 27,
   "id": "c3240fce-e17a-4a1e-aa91-0258d73850cf",
   "metadata": {},
   "outputs": [
    {
     "name": "stdout",
     "output_type": "stream",
     "text": [
      "\n",
      " --->  [0. 1. 2.]\n"
     ]
    }
   ],
   "source": [
    "print('\\n ---> ',Y1.unique())"
   ]
  },
  {
   "cell_type": "markdown",
   "id": "a07602bc-a8e2-4c70-b64e-26c9615c1c5e",
   "metadata": {},
   "source": [
    "### Split data"
   ]
  },
  {
   "cell_type": "code",
   "execution_count": 28,
   "id": "12a33f82-d3ce-462b-96a1-294a407e00db",
   "metadata": {},
   "outputs": [
    {
     "name": "stdout",
     "output_type": "stream",
     "text": [
      "Shape of X1_train:  (147507, 95)\n",
      "Shape of X1_test:  (63218, 95)\n"
     ]
    }
   ],
   "source": [
    "from sklearn.model_selection import train_test_split\n",
    "X1_train, X1_test, Y1_train, Y1_test = train_test_split(X1, Y1, test_size=0.3, random_state=42)\n",
    "print(\"Shape of X1_train: \", X1_train.shape)\n",
    "print(\"Shape of X1_test: \", X1_test.shape)"
   ]
  },
  {
   "cell_type": "code",
   "execution_count": 29,
   "id": "2a34fd4a-bc6b-45fd-ac27-b96706870875",
   "metadata": {},
   "outputs": [
    {
     "name": "stdout",
     "output_type": "stream",
     "text": [
      " X1_train:  [[    0     0     0 ...   200  1611  4601]\n",
      " [    0     0     0 ...  1114   353    78]\n",
      " [    0     0     0 ...     3    27    34]\n",
      " ...\n",
      " [    0     0     0 ...     9   513   944]\n",
      " [    0     0     0 ...   402    50    19]\n",
      " [    0     0     0 ... 54542   121  1366]]\n",
      "X1_test:  [[   0    0    0 ...  509 1264    4]\n",
      " [   0    0    0 ...    0  162  152]\n",
      " [   0    0    0 ... 8531  638 5623]\n",
      " ...\n",
      " [   0    0    0 ...  291 7689 2120]\n",
      " [   0    0    0 ...  445    5   47]\n",
      " [   0    0    0 ...  145   27  616]]\n"
     ]
    }
   ],
   "source": [
    "print(\" X1_train: \", X1_train)\n",
    "print(\"X1_test: \", X1_test)"
   ]
  },
  {
   "cell_type": "code",
   "execution_count": 30,
   "id": "5c6cb5ef-2096-4656-b380-86d88a335386",
   "metadata": {},
   "outputs": [
    {
     "name": "stdout",
     "output_type": "stream",
     "text": [
      "\n",
      " Y1_test--->  115632    1.0\n",
      "34907     0.0\n",
      "36614     0.0\n",
      "193371    1.0\n",
      "111552    1.0\n",
      "         ... \n",
      "80084     0.0\n",
      "204223    2.0\n",
      "180315    1.0\n",
      "148991    1.0\n",
      "177054    1.0\n",
      "Name: sentiment, Length: 63218, dtype: float64\n",
      "\n",
      " Y1_train--->  99758     0.0\n",
      "207267    2.0\n",
      "93986     0.0\n",
      "115071    1.0\n",
      "197166    1.0\n",
      "         ... \n",
      "119879    1.0\n",
      "103694    1.0\n",
      "131932    1.0\n",
      "146867    1.0\n",
      "121958    1.0\n",
      "Name: sentiment, Length: 147507, dtype: float64\n"
     ]
    }
   ],
   "source": [
    "print('\\n Y1_test---> ',Y1_test)\n",
    "print('\\n Y1_train---> ',Y1_train)"
   ]
  },
  {
   "cell_type": "markdown",
   "id": "f4114dbd-02e9-434f-b11d-7e278a28263d",
   "metadata": {},
   "source": [
    "## Encoding Y"
   ]
  },
  {
   "cell_type": "code",
   "execution_count": 31,
   "id": "290b4b11-e36b-4ecb-9a96-5bec0232e04d",
   "metadata": {},
   "outputs": [],
   "source": [
    "### Encoder les étiquettes en one-hot :\n",
    "\n",
    "from tensorflow.keras.utils import to_categorical\n",
    "\n",
    "Y1_train_one_hot = to_categorical(Y1_train)\n",
    "Y1_test_one_hot = to_categorical(Y1_test)"
   ]
  },
  {
   "cell_type": "code",
   "execution_count": 32,
   "id": "f4b238bb-adc9-40df-843c-5ab13d99d8b8",
   "metadata": {},
   "outputs": [
    {
     "name": "stdout",
     "output_type": "stream",
     "text": [
      "\n",
      " Y1_train_one_hot--->  [[1. 0. 0.]\n",
      " [0. 0. 1.]\n",
      " [1. 0. 0.]\n",
      " ...\n",
      " [0. 1. 0.]\n",
      " [0. 1. 0.]\n",
      " [0. 1. 0.]]\n",
      "\n",
      " Y1_test_one_hot--->  [[0. 1. 0.]\n",
      " [1. 0. 0.]\n",
      " [1. 0. 0.]\n",
      " ...\n",
      " [0. 1. 0.]\n",
      " [0. 1. 0.]\n",
      " [0. 1. 0.]]\n"
     ]
    }
   ],
   "source": [
    "print('\\n Y1_train_one_hot---> ',Y1_train_one_hot)\n",
    "print('\\n Y1_test_one_hot---> ',Y1_test_one_hot)"
   ]
  },
  {
   "cell_type": "markdown",
   "id": "55f241ea-bdc7-4caf-b0b2-3b150d140014",
   "metadata": {},
   "source": [
    "## Word Embedding => GloVe"
   ]
  },
  {
   "cell_type": "code",
   "execution_count": 33,
   "id": "afe0acf6-8463-48cc-9018-53842903596c",
   "metadata": {},
   "outputs": [
    {
     "name": "stdout",
     "output_type": "stream",
     "text": [
      "Found 400000 word vectors.\n"
     ]
    }
   ],
   "source": [
    "\n",
    "import tensorflow as tf\n",
    "\n",
    "GLOVE_EMB ='glove.6B/glove.6B.300d.txt'  #'glove.twitter.27B/glove.twitter.27B.200d.txt'\n",
    "EMBEDDING_DIM = 300 #200\n",
    "# LR = 1e-3\n",
    "BATCH_SIZE = 50\n",
    "EPOCHS = 7\n",
    "#MODEL_PATH = '/Projet/best_model.hdf5'\n",
    "embeddings_index = {}\n",
    "\n",
    "f = open(GLOVE_EMB)\n",
    "for line in f:\n",
    "  values = line.split()\n",
    "  word = value = values[0]\n",
    "  coefs = np.asarray(values[1:], dtype='float32')\n",
    "  embeddings_index[word] = coefs\n",
    "f.close()\n",
    "\n",
    "print('Found %s word vectors.' %len(embeddings_index))"
   ]
  },
  {
   "cell_type": "markdown",
   "id": "b9039658-9f04-4d67-be32-bc18c06941b8",
   "metadata": {},
   "source": [
    "## Pre_trained Model => 3 classe"
   ]
  },
  {
   "cell_type": "code",
   "execution_count": 34,
   "id": "88413ba7-41a8-4c58-a4be-2f4f5833d231",
   "metadata": {},
   "outputs": [],
   "source": [
    "from tensorflow.keras.optimizers import Adam\n",
    "from tensorflow.keras import Sequential\n",
    "from tensorflow.keras.layers import Bidirectional, GlobalMaxPool1D, Dense, LSTM, Conv1D, Embedding\n",
    "from tensorflow.keras.callbacks import ReduceLROnPlateau\n",
    "\n",
    "embedding_matrix = np.zeros((vocab_size, EMBEDDING_DIM))\n",
    "for word, i in word_index.items():\n",
    "  embedding_vector = embeddings_index.get(word)\n",
    "  if embedding_vector is not None:\n",
    "    embedding_matrix[i] = embedding_vector\n",
    "def getModel():\n",
    "    embedding_layer = tf.keras.layers.Embedding(vocab_size,\n",
    "                                          EMBEDDING_DIM,\n",
    "                                          weights=[embedding_matrix],\n",
    "                                          input_length=MAX_LEN,\n",
    "                                          trainable=False)\n",
    "\n",
    "    model = Sequential([\n",
    "        embedding_layer,\n",
    "        Bidirectional(LSTM(64, dropout=0.2, return_sequences=True)),\n",
    "        Bidirectional(LSTM(64, return_sequences=True)),\n",
    "        # Conv1D(100, 5, activation='relu'),\n",
    "        GlobalMaxPool1D(),\n",
    "        Dense(3, activation='softmax'),\n",
    "    ])\n",
    "    return model"
   ]
  },
  {
   "cell_type": "code",
   "execution_count": 35,
   "id": "fe0bea58-3d3b-45cd-bd27-1a9180a82466",
   "metadata": {},
   "outputs": [
    {
     "name": "stderr",
     "output_type": "stream",
     "text": [
      "2024-04-19 15:31:19.516713: W external/local_tsl/tsl/framework/cpu_allocator_impl.cc:83] Allocation of 90570000 exceeds 10% of free system memory.\n",
      "2024-04-19 15:31:19.560658: W external/local_tsl/tsl/framework/cpu_allocator_impl.cc:83] Allocation of 90570000 exceeds 10% of free system memory.\n",
      "2024-04-19 15:31:19.579523: W external/local_tsl/tsl/framework/cpu_allocator_impl.cc:83] Allocation of 90570000 exceeds 10% of free system memory.\n",
      "2024-04-19 15:31:19.912882: W external/local_tsl/tsl/framework/cpu_allocator_impl.cc:83] Allocation of 90570000 exceeds 10% of free system memory.\n"
     ]
    }
   ],
   "source": [
    "training_model = getModel()"
   ]
  },
  {
   "cell_type": "markdown",
   "id": "b6e265c0-ae95-44ad-aee6-3b328bae1951",
   "metadata": {},
   "source": [
    "### Training Model"
   ]
  },
  {
   "cell_type": "code",
   "execution_count": 36,
   "id": "2ddd1c8d-c394-4957-b0c8-cbf6181d5fa4",
   "metadata": {},
   "outputs": [
    {
     "name": "stdout",
     "output_type": "stream",
     "text": [
      "Model: \"sequential\"\n",
      "_________________________________________________________________\n",
      " Layer (type)                Output Shape              Param #   \n",
      "=================================================================\n",
      " embedding (Embedding)       (None, 95, 300)           22642500  \n",
      "                                                                 \n",
      " bidirectional (Bidirection  (None, 95, 128)           186880    \n",
      " al)                                                             \n",
      "                                                                 \n",
      " bidirectional_1 (Bidirecti  (None, 95, 128)           98816     \n",
      " onal)                                                           \n",
      "                                                                 \n",
      " global_max_pooling1d (Glob  (None, 128)               0         \n",
      " alMaxPooling1D)                                                 \n",
      "                                                                 \n",
      " dense (Dense)               (None, 3)                 387       \n",
      "                                                                 \n",
      "=================================================================\n",
      "Total params: 22928583 (87.47 MB)\n",
      "Trainable params: 286083 (1.09 MB)\n",
      "Non-trainable params: 22642500 (86.37 MB)\n",
      "_________________________________________________________________\n"
     ]
    },
    {
     "name": "stderr",
     "output_type": "stream",
     "text": [
      "2024-04-19 15:31:36.297468: W external/local_tsl/tsl/framework/cpu_allocator_impl.cc:83] Allocation of 56052660 exceeds 10% of free system memory.\n"
     ]
    },
    {
     "name": "stdout",
     "output_type": "stream",
     "text": [
      "Epoch 1/7\n",
      "2951/2951 [==============================] - 588s 198ms/step - loss: 0.5518 - accuracy: 0.7370 - val_loss: 0.5131 - val_accuracy: 0.7654\n",
      "Epoch 2/7\n",
      "2951/2951 [==============================] - 674s 228ms/step - loss: 0.4980 - accuracy: 0.7705 - val_loss: 0.4999 - val_accuracy: 0.7710\n",
      "Epoch 3/7\n",
      "2951/2951 [==============================] - 669s 227ms/step - loss: 0.4724 - accuracy: 0.7836 - val_loss: 0.4946 - val_accuracy: 0.7757\n",
      "Epoch 4/7\n",
      "2951/2951 [==============================] - 548s 186ms/step - loss: 0.4502 - accuracy: 0.7957 - val_loss: 0.4994 - val_accuracy: 0.7740\n",
      "Epoch 5/7\n",
      "2951/2951 [==============================] - 577s 196ms/step - loss: 0.4305 - accuracy: 0.8067 - val_loss: 0.4927 - val_accuracy: 0.7796\n",
      "Epoch 6/7\n",
      "2951/2951 [==============================] - 551s 187ms/step - loss: 0.4129 - accuracy: 0.8155 - val_loss: 0.4984 - val_accuracy: 0.7804\n",
      "Epoch 7/7\n",
      "2951/2951 [==============================] - 540s 183ms/step - loss: 0.3955 - accuracy: 0.8241 - val_loss: 0.5041 - val_accuracy: 0.7749\n"
     ]
    }
   ],
   "source": [
    "training_model.summary()\n",
    "training_model.compile(optimizer=Adam(), loss='categorical_crossentropy',\n",
    "              metrics=['accuracy'])\n",
    "history = training_model.fit(X1_train, Y1_train_one_hot, batch_size=BATCH_SIZE, epochs=EPOCHS,\n",
    "                    validation_data=(X1_test, Y1_test_one_hot))"
   ]
  },
  {
   "cell_type": "markdown",
   "id": "99e380fb-c96d-4a2a-af29-10d78fceb443",
   "metadata": {},
   "source": [
    "### Evaluation "
   ]
  },
  {
   "cell_type": "code",
   "execution_count": 37,
   "id": "276f25d2-aede-4370-a5ca-c1e999aa17a0",
   "metadata": {},
   "outputs": [
    {
     "data": {
      "image/png": "[encoded data removed]",
      "text/plain": [
       "<Figure size 640x480 with 1 Axes>"
      ]
     },
     "metadata": {},
     "output_type": "display_data"
    },
    {
     "data": {
      "image/png": "[encoded data removed]",
      "text/plain": [
       "<Figure size 640x480 with 1 Axes>"
      ]
     },
     "metadata": {},
     "output_type": "display_data"
    }
   ],
   "source": [
    "acc,  val_acc  = history.history['accuracy'], history.history['val_accuracy']\n",
    "loss, val_loss = history.history['loss'], history.history['val_loss']\n",
    "epochs = range(len(acc))\n",
    "\n",
    "plt.plot(epochs, acc, 'b', label='Training acc')\n",
    "plt.plot(epochs, val_acc, 'r', label='Validation acc')\n",
    "plt.title('Training and validation accuracy')\n",
    "plt.legend()\n",
    "\n",
    "plt.figure()\n",
    "\n",
    "plt.plot(epochs, loss, 'b', label='Training loss')\n",
    "plt.plot(epochs, val_loss, 'r', label='Validation loss')\n",
    "plt.title('Training and validation loss')\n",
    "plt.legend()\n",
    "\n",
    "plt.show()"
   ]
  },
  {
   "cell_type": "code",
   "execution_count": 38,
   "id": "cd8d471f-2d4a-4528-9a9c-c3e2b936b985",
   "metadata": {},
   "outputs": [
    {
     "name": "stdout",
     "output_type": "stream",
     "text": [
      "1976/1976 [==============================] - 81s 41ms/step\n"
     ]
    }
   ],
   "source": [
    "from sklearn.metrics import confusion_matrix, classification_report, accuracy_score\n",
    "y_pred = training_model.predict(X1_test)"
   ]
  },
  {
   "cell_type": "code",
   "execution_count": 39,
   "id": "6e27a37f-1f30-4a5f-b12a-1a89ac29baf5",
   "metadata": {},
   "outputs": [
    {
     "name": "stdout",
     "output_type": "stream",
     "text": [
      "              precision    recall  f1-score   support\n",
      "\n",
      "           0       0.75      0.81      0.78     29865\n",
      "           1       0.79      0.74      0.76     30146\n",
      "           2       0.91      0.82      0.86      3207\n",
      "\n",
      "    accuracy                           0.77     63218\n",
      "   macro avg       0.82      0.79      0.80     63218\n",
      "weighted avg       0.78      0.77      0.77     63218\n",
      "\n"
     ]
    }
   ],
   "source": [
    "y_pred_classes = np.argmax(y_pred, axis=1)\n",
    "print(classification_report(np.argmax(Y1_test_one_hot, axis=1), y_pred_classes))"
   ]
  },
  {
   "cell_type": "code",
   "execution_count": 42,
   "id": "d546dafe-a542-4832-8f33-34e0dd9d0f74",
   "metadata": {},
   "outputs": [
    {
     "name": "stdout",
     "output_type": "stream",
     "text": [
      "Accuracy: 0.7749\n",
      "Precision: 0.7766\n",
      "Recall: 0.7749\n",
      "F1 Score: 0.7749\n"
     ]
    }
   ],
   "source": [
    "from sklearn.metrics import confusion_matrix, classification_report, accuracy_score,precision_score, recall_score, f1_score\n",
    "# Calculate metrics\n",
    "accuracy = np.mean(y_pred_classes == np.argmax(Y1_test_one_hot, axis=1))\n",
    "precision = precision_score(np.argmax(Y1_test_one_hot, axis=1), y_pred_classes, average='weighted')\n",
    "recall = recall_score(np.argmax(Y1_test_one_hot, axis=1), y_pred_classes, average='weighted')\n",
    "f1 = f1_score(np.argmax(Y1_test_one_hot, axis=1), y_pred_classes, average='weighted')\n",
    "\n",
    "# Print metrics\n",
    "print('Accuracy: {:.4f}'.format(accuracy))\n",
    "print('Precision: {:.4f}'.format(precision))\n",
    "print('Recall: {:.4f}'.format(recall))\n",
    "print('F1 Score: {:.4f}'.format(f1))"
   ]
  },
  {
   "cell_type": "code",
   "execution_count": 43,
   "id": "cb79c1ec-401b-403a-bb9d-5734a5aa446d",
   "metadata": {},
   "outputs": [],
   "source": [
    "# from mlxtend.plotting import plot_confusion_matrix\n",
    "cnf_matrix = confusion_matrix(np.argmax(Y1_test_one_hot, axis=1), y_pred_classes)\n",
    "Y1_test = Y1_test.map({0.0:'Negative', 1.0:'Positive', 2.0:'Neutral'}) \n"
   ]
  },
  {
   "cell_type": "code",
   "execution_count": 44,
   "id": "4985134f-9875-4bf3-a5ef-be1026e2bd77",
   "metadata": {},
   "outputs": [
    {
     "data": {
      "image/png": "[encoded data removed]",
      "text/plain": [
       "<Figure size 800x600 with 2 Axes>"
      ]
     },
     "metadata": {},
     "output_type": "display_data"
    }
   ],
   "source": [
    "def plot_confusion_matrix(confusion_mat,Y_test):\n",
    "    plt.figure(figsize=(8,6))\n",
    "    sns.heatmap(confusion_mat, cmap=plt.cm.Blues, annot=True, fmt='d', \n",
    "                xticklabels=Y1_test.unique(),\n",
    "                yticklabels=Y1_test.unique())\n",
    "    plt.title('Confusion matrix', fontsize=16)\n",
    "    plt.xlabel('Actual label', fontsize=12)\n",
    "    plt.ylabel('Predicted label', fontsize=12)\n",
    "    \n",
    "plot_confusion_matrix(cnf_matrix, Y1_test)"
   ]
  },
  {
   "cell_type": "code",
   "execution_count": 45,
   "id": "f2035b4e-8f2c-4bc5-9121-1eacbc3ab496",
   "metadata": {},
   "outputs": [
    {
     "name": "stderr",
     "output_type": "stream",
     "text": [
      "/home/tawfekh-d/.local/lib/python3.10/site-packages/keras/src/engine/training.py:3103: UserWarning: You are saving your model as an HDF5 file via `model.save()`. This file format is considered legacy. We recommend using instead the native Keras format, e.g. `model.save('my_model.keras')`.\n",
      "  saving_api.save_model(\n"
     ]
    }
   ],
   "source": [
    "import pickle\n",
    "training_model.save(\"Models/sentiment_model_pretrained_3classe.h5\")\n",
    "training_model.save_weights(\"Models/Model Weights/weights\")\n",
    "# Saving the tokenizer\n",
    "with open('Tokenizer.pickle', 'wb') as file:\n",
    "    pickle.dump(tokenizer, file)"
   ]
  },
  {
   "cell_type": "markdown",
   "id": "01095c2b-5b1b-41c3-a473-b1677f5c231e",
   "metadata": {},
   "source": [
    "# 2. MODEL FOR 7 classes =>Transfer Learning"
   ]
  },
  {
   "cell_type": "markdown",
   "id": "90f4fd9b-befc-4737-949c-939813dc91c8",
   "metadata": {},
   "source": [
    "###  _-> Read Data"
   ]
  },
  {
   "cell_type": "code",
   "execution_count": 115,
   "id": "fb4e1acf-f9fe-41d6-8582-7b04996683c4",
   "metadata": {},
   "outputs": [
    {
     "name": "stdout",
     "output_type": "stream",
     "text": [
      "\n",
      " ------Données d’apprentissage 7 classes ---------- \n",
      "\n",
      "Aperçu des données :\n",
      "              ID                                              Tweet  \\\n",
      "0  2017-En-30153                   @liamch88 yeah! :) playing well    \n",
      "1  2017-En-40929  At least I don't have a guy trying to discoura...   \n",
      "2  2017-En-22012  UPLIFT: If you're still discouraged it means y...   \n",
      "3  2017-En-30837  ...at your age, the heyday in the blood is tam...   \n",
      "4  2017-En-30838  i was so embarrassed when she saw us i was lik...   \n",
      "\n",
      "  Affect Dimension                                    Intensity Class  \n",
      "0          valence  0: neutral or mixed emotional state can be inf...  \n",
      "1          valence  0: neutral or mixed emotional state can be inf...  \n",
      "2          valence  0: neutral or mixed emotional state can be inf...  \n",
      "3          valence  0: neutral or mixed emotional state can be inf...  \n",
      "4          valence  -2: moderately negative emotional state can be...  \n",
      "\n",
      "Informations sur les données :\n",
      "<class 'pandas.core.frame.DataFrame'>\n",
      "RangeIndex: 1181 entries, 0 to 1180\n",
      "Data columns (total 4 columns):\n",
      " #   Column            Non-Null Count  Dtype \n",
      "---  ------            --------------  ----- \n",
      " 0   ID                1181 non-null   object\n",
      " 1   Tweet             1181 non-null   object\n",
      " 2   Affect Dimension  1181 non-null   object\n",
      " 3   Intensity Class   1181 non-null   object\n",
      "dtypes: object(4)\n",
      "memory usage: 37.0+ KB\n",
      "None\n",
      " \n",
      " Taille : \n",
      " (1181, 4)\n"
     ]
    }
   ],
   "source": [
    "analysis_data7 = pd.read_csv('data/2018-Valence-oc-En-train.txt', sep=\"\\t\")\n",
    "analysis_data7_dev = pd.read_csv('data/2018-Valence-oc-En-dev.txt', sep=\"\\t\")\n",
    "print(\"\\n ------Données d’apprentissage 7 classes ---------- \\n\")\n",
    "read_data(analysis_data7)"
   ]
  },
  {
   "cell_type": "markdown",
   "id": "25836a81-def0-47e6-ab00-74e1570928d5",
   "metadata": {},
   "source": [
    "### _-> Preprocessing"
   ]
  },
  {
   "cell_type": "code",
   "execution_count": 116,
   "id": "266e384f-4730-49e7-88f0-f7eb119db10b",
   "metadata": {},
   "outputs": [
    {
     "name": "stdout",
     "output_type": "stream",
     "text": [
      "___________-Index of Nan_value : \n",
      " Index([], dtype='int64')\n",
      "___________-number of Nan_value : \n",
      " False    1181\n",
      "Name: count, dtype: int64\n",
      "____________After dropping nan_value :\n",
      " Index([], dtype='int64')\n"
     ]
    },
    {
     "data": {
      "text/html": [
       "<div>\n",
       "<style scoped>\n",
       "    .dataframe tbody tr th:only-of-type {\n",
       "        vertical-align: middle;\n",
       "    }\n",
       "\n",
       "    .dataframe tbody tr th {\n",
       "        vertical-align: top;\n",
       "    }\n",
       "\n",
       "    .dataframe thead th {\n",
       "        text-align: right;\n",
       "    }\n",
       "</style>\n",
       "<table border=\"1\" class=\"dataframe\">\n",
       "  <thead>\n",
       "    <tr style=\"text-align: right;\">\n",
       "      <th></th>\n",
       "      <th>ID</th>\n",
       "      <th>Tweet</th>\n",
       "      <th>Affect Dimension</th>\n",
       "      <th>Intensity Class</th>\n",
       "    </tr>\n",
       "  </thead>\n",
       "  <tbody>\n",
       "    <tr>\n",
       "      <th>0</th>\n",
       "      <td>2017-En-30153</td>\n",
       "      <td>@liamch88 yeah! :) playing well</td>\n",
       "      <td>valence</td>\n",
       "      <td>0: neutral or mixed emotional state can be inf...</td>\n",
       "    </tr>\n",
       "    <tr>\n",
       "      <th>1</th>\n",
       "      <td>2017-En-40929</td>\n",
       "      <td>At least I don't have a guy trying to discoura...</td>\n",
       "      <td>valence</td>\n",
       "      <td>0: neutral or mixed emotional state can be inf...</td>\n",
       "    </tr>\n",
       "    <tr>\n",
       "      <th>2</th>\n",
       "      <td>2017-En-22012</td>\n",
       "      <td>UPLIFT: If you're still discouraged it means y...</td>\n",
       "      <td>valence</td>\n",
       "      <td>0: neutral or mixed emotional state can be inf...</td>\n",
       "    </tr>\n",
       "    <tr>\n",
       "      <th>3</th>\n",
       "      <td>2017-En-30837</td>\n",
       "      <td>...at your age, the heyday in the blood is tam...</td>\n",
       "      <td>valence</td>\n",
       "      <td>0: neutral or mixed emotional state can be inf...</td>\n",
       "    </tr>\n",
       "    <tr>\n",
       "      <th>4</th>\n",
       "      <td>2017-En-30838</td>\n",
       "      <td>i was so embarrassed when she saw us i was lik...</td>\n",
       "      <td>valence</td>\n",
       "      <td>-2: moderately negative emotional state can be...</td>\n",
       "    </tr>\n",
       "  </tbody>\n",
       "</table>\n",
       "</div>"
      ],
      "text/plain": [
       "              ID                                              Tweet  \\\n",
       "0  2017-En-30153                   @liamch88 yeah! :) playing well    \n",
       "1  2017-En-40929  At least I don't have a guy trying to discoura...   \n",
       "2  2017-En-22012  UPLIFT: If you're still discouraged it means y...   \n",
       "3  2017-En-30837  ...at your age, the heyday in the blood is tam...   \n",
       "4  2017-En-30838  i was so embarrassed when she saw us i was lik...   \n",
       "\n",
       "  Affect Dimension                                    Intensity Class  \n",
       "0          valence  0: neutral or mixed emotional state can be inf...  \n",
       "1          valence  0: neutral or mixed emotional state can be inf...  \n",
       "2          valence  0: neutral or mixed emotional state can be inf...  \n",
       "3          valence  0: neutral or mixed emotional state can be inf...  \n",
       "4          valence  -2: moderately negative emotional state can be...  "
      ]
     },
     "execution_count": 116,
     "metadata": {},
     "output_type": "execute_result"
    }
   ],
   "source": [
    "analysis_data7=dropNan_value(analysis_data7)\n",
    "analysis_data7.head()"
   ]
  },
  {
   "cell_type": "code",
   "execution_count": 117,
   "id": "9bb808a1-63a1-4ac1-afd7-2fdd0a31d998",
   "metadata": {},
   "outputs": [],
   "source": [
    "def preprocess(txt):\n",
    "    #txt = txt.lower() # Convert to lowercase\n",
    "    txt = re.sub(r\"\\\\u2019\",\"'\",txt)\n",
    "    txt = re.sub(r\"\\\\u002c\",\"'\",txt)\n",
    "    txt = ' '.join(str2emoji(unidecode(txt).lower().split()))\n",
    "    txt = re.sub(r'http\\S+', '', txt)\n",
    "    txt = re.sub(r'\\S+@\\S+', '', txt)\n",
    "    txt = re.sub(r'\\d{1,2}/\\d{1,2}/\\d{4}', '', txt)\n",
    "    txt = re.sub(r\"\\'ve\",\"have\",txt)\n",
    "    txt = re.sub(r\"can\\'t\",\"cannot\",txt)\n",
    "    txt = re.sub(r\"n\\'t\",\"not\",txt)\n",
    "    txt = re.sub(r\"\\'re\",\"are\",txt)\n",
    "    txt = re.sub(r\"\\'d\",\"would\",txt)\n",
    "    txt = re.sub(r\"\\'ll\",\"will\",txt)\n",
    "    txt = re.sub(r\"\\'s\",\"\",txt)\n",
    "    txt = re.sub(r\"\\'n\",\"\",txt)\n",
    "    txt = re.sub(r\"\\'m\",\"am\",txt)\n",
    "    txt = re.sub(r'@\\w+', '', txt)\n",
    "    txt = re.sub(r'#\\w+', '', txt)\n",
    "    txt = re.sub(r'[0-9]+', ' ', txt)\n",
    "    txt = re.sub('[^a-zA-Z]', ' ', txt)\n",
    "\n",
    "    tokenizer = TweetTokenizer()\n",
    "    tokens = tokenizer.tokenize(txt) # tokenizing the text\n",
    "    pos_tags = pos_tag(tokens) # tagging the tokens\n",
    "\n",
    "    txt = [lemmatizer.lemmatize(i,j[0].lower()) if j[0].lower() in ['a','n','v'] else lemmatizer.lemmatize(i) for i,j in pos_tags]\n",
    "    txt = [i for i in txt if (i not in stopwords) and (i not in punctuation)]\n",
    "    txt = ' '.join(txt)\n",
    "    return txt"
   ]
  },
  {
   "cell_type": "code",
   "execution_count": 118,
   "id": "c0adaa57-afaa-4f8e-9ba7-b8334ee678b2",
   "metadata": {},
   "outputs": [],
   "source": [
    "def data_preprocessing(data,tweet):\n",
    "    data['tweet_desc']=data[tweet].apply(lambda x:preprocess(x))\n",
    "    return data['tweet_desc']"
   ]
  },
  {
   "cell_type": "code",
   "execution_count": 119,
   "id": "b33a695b-8dbd-4bc5-b928-7082441be890",
   "metadata": {},
   "outputs": [
    {
     "name": "stdout",
     "output_type": "stream",
     "text": [
      "\n",
      " ----- |||||||--------- \n",
      " Preprocessed DATASET of 7 Classes\n",
      "0                              yeah happy playing well\n",
      "1    least donot guy try discourage anymore want ne...\n",
      "2    uplift youare still discourage mean youare lis...\n",
      "3                                age heyday blood tame\n",
      "4    embarrassed saw u like knvfkkjg think weare st...\n",
      "Name: tweet_desc, dtype: object\n"
     ]
    }
   ],
   "source": [
    "from nltk.tokenize import TweetTokenizer\n",
    "tweet_preprocessed7=data_preprocessing(analysis_data7,'Tweet')\n",
    "print(\"\\n ----- |||||||--------- \\n Preprocessed DATASET of 7 Classes\")\n",
    "print(tweet_preprocessed7.head())\n",
    "analysis_data7.to_csv('data/2018-Valence-oc-En-train_preprocessed.csv',index='false')"
   ]
  },
  {
   "cell_type": "code",
   "execution_count": 120,
   "id": "abd9734f-23e1-4cbc-86ad-993bb16357c4",
   "metadata": {},
   "outputs": [
    {
     "name": "stdout",
     "output_type": "stream",
     "text": [
      "\n",
      " Type of sentiment--->  ; \n",
      "  ['0: neutral or mixed emotional state can be inferred'\n",
      " '-2: moderately negative emotional state can be inferred'\n",
      " '-3: very negative emotional state can be inferred'\n",
      " '1: slightly positive emotional state can be inferred'\n",
      " '2: moderately positive emotional state can be inferred'\n",
      " '3: very positive emotional state can be inferred'\n",
      " '-1: slightly negative emotional state can be inferred']\n"
     ]
    },
    {
     "data": {
      "text/html": [
       "<div>\n",
       "<style scoped>\n",
       "    .dataframe tbody tr th:only-of-type {\n",
       "        vertical-align: middle;\n",
       "    }\n",
       "\n",
       "    .dataframe tbody tr th {\n",
       "        vertical-align: top;\n",
       "    }\n",
       "\n",
       "    .dataframe thead th {\n",
       "        text-align: right;\n",
       "    }\n",
       "</style>\n",
       "<table border=\"1\" class=\"dataframe\">\n",
       "  <thead>\n",
       "    <tr style=\"text-align: right;\">\n",
       "      <th></th>\n",
       "      <th>Intensity Class</th>\n",
       "      <th>count</th>\n",
       "    </tr>\n",
       "  </thead>\n",
       "  <tbody>\n",
       "    <tr>\n",
       "      <th>0</th>\n",
       "      <td>0: neutral or mixed emotional state can be inf...</td>\n",
       "      <td>341</td>\n",
       "    </tr>\n",
       "    <tr>\n",
       "      <th>1</th>\n",
       "      <td>-2: moderately negative emotional state can be...</td>\n",
       "      <td>249</td>\n",
       "    </tr>\n",
       "    <tr>\n",
       "      <th>2</th>\n",
       "      <td>1: slightly positive emotional state can be in...</td>\n",
       "      <td>167</td>\n",
       "    </tr>\n",
       "    <tr>\n",
       "      <th>3</th>\n",
       "      <td>-3: very negative emotional state can be inferred</td>\n",
       "      <td>129</td>\n",
       "    </tr>\n",
       "    <tr>\n",
       "      <th>4</th>\n",
       "      <td>3: very positive emotional state can be inferred</td>\n",
       "      <td>125</td>\n",
       "    </tr>\n",
       "    <tr>\n",
       "      <th>5</th>\n",
       "      <td>2: moderately positive emotional state can be ...</td>\n",
       "      <td>92</td>\n",
       "    </tr>\n",
       "    <tr>\n",
       "      <th>6</th>\n",
       "      <td>-1: slightly negative emotional state can be i...</td>\n",
       "      <td>78</td>\n",
       "    </tr>\n",
       "  </tbody>\n",
       "</table>\n",
       "</div>"
      ],
      "text/plain": [
       "                                     Intensity Class  count\n",
       "0  0: neutral or mixed emotional state can be inf...    341\n",
       "1  -2: moderately negative emotional state can be...    249\n",
       "2  1: slightly positive emotional state can be in...    167\n",
       "3  -3: very negative emotional state can be inferred    129\n",
       "4   3: very positive emotional state can be inferred    125\n",
       "5  2: moderately positive emotional state can be ...     92\n",
       "6  -1: slightly negative emotional state can be i...     78"
      ]
     },
     "execution_count": 120,
     "metadata": {},
     "output_type": "execute_result"
    }
   ],
   "source": [
    "print('\\n Type of sentiment--->  ; \\n ',analysis_data7['Intensity Class'].unique())\n",
    "target_df2 = analysis_data7['Intensity Class'].value_counts().reset_index() \n",
    "target_df2"
   ]
  },
  {
   "cell_type": "markdown",
   "id": "47125c74-e5d3-4dc5-997e-84291825aa19",
   "metadata": {
    "jp-MarkdownHeadingCollapsed": true
   },
   "source": [
    "### _-> TOKENIZATION & PADDING  -AND split data"
   ]
  },
  {
   "cell_type": "code",
   "execution_count": 121,
   "id": "a57e579a-279f-4058-8110-51ff69ae3eac",
   "metadata": {},
   "outputs": [
    {
     "name": "stdout",
     "output_type": "stream",
     "text": [
      "Before Tokenization & Padding \n",
      " yeah happy playing well\n",
      "After Tokenization & Padding \n",
      " [   0    0    0    0    0    0    0    0    0    0    0    0    0    0\n",
      "    0    0    0    0    0    0    0    0    0    0    0    0    0    0\n",
      "    0    0    0    0    0    0    0    0    0    0    0    0    0    0\n",
      "    0    0    0    0    0    0    0    0    0    0    0    0    0    0\n",
      "    0    0    0    0    0    0    0    0    0    0    0    0    0    0\n",
      "    0    0    0    0    0    0    0    0    0    0    0    0    0    0\n",
      "    0    0    0    0    0    0    0   73   54 2092   34]\n"
     ]
    }
   ],
   "source": [
    "X7=analysis_data7['tweet_desc']\n",
    "Y7=analysis_data7['Intensity Class']\n",
    "X7, tokenizer,word_index = tokenize_pad_sequences(X7)\n",
    "show_tokenize_pad_sequences(tweet_preprocessed7)"
   ]
  },
  {
   "cell_type": "code",
   "execution_count": 122,
   "id": "409d0b63-03f1-460f-8516-2998a2a3ebf9",
   "metadata": {},
   "outputs": [
    {
     "name": "stdout",
     "output_type": "stream",
     "text": [
      "Before Tokenization & Padding \n",
      " yeah happy playing well\n",
      "After Tokenization & Padding \n",
      " [   0    0    0    0    0    0    0    0    0    0    0    0    0    0\n",
      "    0    0    0    0    0    0    0    0    0    0    0    0    0    0\n",
      "    0    0    0    0    0    0    0    0    0    0    0    0    0    0\n",
      "    0    0    0    0    0    0    0    0    0    0    0    0    0    0\n",
      "    0    0    0    0    0    0    0    0    0    0    0    0    0    0\n",
      "    0    0    0    0    0    0    0    0    0    0    0    0    0    0\n",
      "    0    0    0    0    0    0    0   73   54 2092   34]\n"
     ]
    }
   ],
   "source": [
    "### Split data with data_dev\n",
    "X7_train=X7\n",
    "Y7_train=Y7\n",
    "\n",
    "tweet_preprocessed7_test=data_preprocessing(analysis_data7_dev,'Tweet')\n",
    "analysis_data7_dev.to_csv('data/2018-Valence-oc-En-dev_preprocessed.csv',index='false')\n",
    "X7_test=analysis_data7_dev['tweet_desc']\n",
    "Y7_test=analysis_data7_dev['Intensity Class']\n",
    "X7_test, tokenizer,word_index = tokenize_pad_sequences(X7_test)\n",
    "show_tokenize_pad_sequences(tweet_preprocessed7)\n"
   ]
  },
  {
   "cell_type": "code",
   "execution_count": 123,
   "id": "838719a2-4aab-4007-aa6f-4ed605dbb515",
   "metadata": {},
   "outputs": [],
   "source": [
    "# Split data\n",
    "# X7_train, X7_test, Y7_train, Y7_test = train_test_split(X7, Y7, test_size=0.2, random_state=42)\n",
    "# print(\"Shape of X7_train: \", X7_train.shape)\n",
    "# print(\"Shape of X7_test: \", X7_test.shape)"
   ]
  },
  {
   "cell_type": "code",
   "execution_count": 124,
   "id": "1d215610-5c70-4e30-82f1-eedb532af49b",
   "metadata": {},
   "outputs": [
    {
     "name": "stdout",
     "output_type": "stream",
     "text": [
      " Shape of X7_train:  (1181, 95)\n",
      "\n",
      " --_> :  [[   0    0    0 ...   54 2092   34]\n",
      " [   0    0    0 ...  609 7401 3025]\n",
      " [   0    0    0 ... 1745   35 1514]\n",
      " ...\n",
      " [   0    0    0 ... 3900  802 2580]\n",
      " [   0    0    0 ...    0    0 3409]\n",
      " [   0    0    0 ...   67  140 4777]]\n",
      "\n",
      " \n",
      " Shape of X7_test:  (449, 95)\n",
      "\n",
      " --_> :  [[    0     0     0 ...   313    24   333]\n",
      " [    0     0     0 ...  1875    24  1456]\n",
      " [    0     0     0 ...  2583  5813     4]\n",
      " ...\n",
      " [    0     0     0 ...  1638   457  2661]\n",
      " [    0     0     0 ...    17   144   144]\n",
      " [    0     0     0 ... 33663 19281  4518]]\n"
     ]
    }
   ],
   "source": [
    "print(\" Shape of X7_train: \", X7_train.shape)\n",
    "print(\"\\n --_> : \", X7_train)\n",
    "print(\"\\n \\n Shape of X7_test: \", X7_test.shape)\n",
    "print(\"\\n --_> : \", X7_test)\n"
   ]
  },
  {
   "cell_type": "code",
   "execution_count": 125,
   "id": "8e4c6f05-2017-4777-a739-1a1b5166aee7",
   "metadata": {},
   "outputs": [
    {
     "name": "stdout",
     "output_type": "stream",
     "text": [
      "\n",
      "  Shape of Y7_train:  (1181,)\n",
      "\n",
      " --_> :  0       0: neutral or mixed emotional state can be inf...\n",
      "1       0: neutral or mixed emotional state can be inf...\n",
      "2       0: neutral or mixed emotional state can be inf...\n",
      "3       0: neutral or mixed emotional state can be inf...\n",
      "4       -2: moderately negative emotional state can be...\n",
      "                              ...                        \n",
      "1176    1: slightly positive emotional state can be in...\n",
      "1177    -2: moderately negative emotional state can be...\n",
      "1178    1: slightly positive emotional state can be in...\n",
      "1179    0: neutral or mixed emotional state can be inf...\n",
      "1180    -2: moderately negative emotional state can be...\n",
      "Name: Intensity Class, Length: 1181, dtype: object\n",
      "\n",
      " \n",
      "Shape of Y7_test:  (449,)\n",
      "\n",
      " --_> :  0      -3: very negative emotional state can be inferred\n",
      "1      -2: moderately negative emotional state can be...\n",
      "2      -3: very negative emotional state can be inferred\n",
      "3       3: very positive emotional state can be inferred\n",
      "4      1: slightly positive emotional state can be in...\n",
      "                             ...                        \n",
      "444     3: very positive emotional state can be inferred\n",
      "445    -2: moderately negative emotional state can be...\n",
      "446    1: slightly positive emotional state can be in...\n",
      "447    0: neutral or mixed emotional state can be inf...\n",
      "448    -2: moderately negative emotional state can be...\n",
      "Name: Intensity Class, Length: 449, dtype: object\n"
     ]
    }
   ],
   "source": [
    "print(\"\\n  Shape of Y7_train: \", Y7_train.shape)\n",
    "print(\"\\n --_> : \", Y7_train)\n",
    "print(\"\\n \\nShape of Y7_test: \", Y7_test.shape)\n",
    "print(\"\\n --_> : \", Y7_test)"
   ]
  },
  {
   "cell_type": "markdown",
   "id": "072cdd8a-d650-4c34-801e-c898b24d6bd2",
   "metadata": {
    "jp-MarkdownHeadingCollapsed": true
   },
   "source": [
    "### Encoding Y "
   ]
  },
  {
   "cell_type": "code",
   "execution_count": 126,
   "id": "91f9dfeb-e1d2-4965-9422-5e115c275e87",
   "metadata": {},
   "outputs": [],
   "source": [
    "from sklearn.preprocessing import LabelEncoder\n",
    "\n",
    "label_encoder = LabelEncoder()\n",
    "\n",
    "Y7_train_encoded = label_encoder.fit_transform(Y7_train)\n",
    "Y7_test_encoded = label_encoder.transform(Y7_test)\n",
    "\n",
    "Y7_train_one_hot = to_categorical(Y7_train_encoded)\n",
    "Y7_test_one_hot = to_categorical(Y7_test_encoded)"
   ]
  },
  {
   "cell_type": "code",
   "execution_count": 127,
   "id": "61f20b3a-48fa-4647-9fd4-6cc006d21d12",
   "metadata": {},
   "outputs": [
    {
     "name": "stdout",
     "output_type": "stream",
     "text": [
      "\n",
      " --_> Y7_train_one_hot:  [[0. 0. 0. ... 0. 0. 0.]\n",
      " [0. 0. 0. ... 0. 0. 0.]\n",
      " [0. 0. 0. ... 0. 0. 0.]\n",
      " ...\n",
      " [0. 0. 0. ... 1. 0. 0.]\n",
      " [0. 0. 0. ... 0. 0. 0.]\n",
      " [0. 1. 0. ... 0. 0. 0.]]\n",
      "\n",
      " --_> Y7_test_one_hot:  [[0. 0. 1. ... 0. 0. 0.]\n",
      " [0. 1. 0. ... 0. 0. 0.]\n",
      " [0. 0. 1. ... 0. 0. 0.]\n",
      " ...\n",
      " [0. 0. 0. ... 1. 0. 0.]\n",
      " [0. 0. 0. ... 0. 0. 0.]\n",
      " [0. 1. 0. ... 0. 0. 0.]]\n"
     ]
    }
   ],
   "source": [
    "print(\"\\n --_> Y7_train_one_hot: \", Y7_train_one_hot)\n",
    "print(\"\\n --_> Y7_test_one_hot: \", Y7_test_one_hot)"
   ]
  },
  {
   "cell_type": "markdown",
   "id": "f6cd9d41-ba3d-48fa-a340-b99f80b91a74",
   "metadata": {},
   "source": [
    "### _-> Model Transfert learning "
   ]
  },
  {
   "cell_type": "code",
   "execution_count": 128,
   "id": "51cb08ea-efc4-4108-9f38-3686aaf2c75c",
   "metadata": {},
   "outputs": [],
   "source": [
    "def getTransfertModel(model):\n",
    "    transfert_model = Sequential()\n",
    "    for layer in model.layers[:-1]:\n",
    "        transfert_model.add(layer)\n",
    "    # Congeler les poids des couches pré-entraînées\n",
    "    for layer in transfert_model.layers:\n",
    "        layer.trainable = False\n",
    "    transfert_model.add(Dense(150, activation='relu',name='dense1'))\n",
    "    transfert_model.add(Dense(100, activation='relu',name='dense2'))\n",
    "    # transfert_model.add(Dense(100, activation='relu',name='dense2'))\n",
    "    transfert_model.add(Dense(60, activation='relu',name='dense3'))\n",
    "    transfert_model.add(Dense(7, activation='softmax',name='dense4'))\n",
    "    return transfert_model"
   ]
  },
  {
   "cell_type": "code",
   "execution_count": 129,
   "id": "31512d4c-b324-4fd1-b862-e0dd378e248d",
   "metadata": {},
   "outputs": [
    {
     "name": "stdout",
     "output_type": "stream",
     "text": [
      "Model: \"sequential\"\n",
      "_________________________________________________________________\n",
      " Layer (type)                Output Shape              Param #   \n",
      "=================================================================\n",
      " embedding (Embedding)       (None, 95, 300)           22642500  \n",
      "                                                                 \n",
      " bidirectional (Bidirection  (None, 95, 128)           186880    \n",
      " al)                                                             \n",
      "                                                                 \n",
      " bidirectional_1 (Bidirecti  (None, 95, 128)           98816     \n",
      " onal)                                                           \n",
      "                                                                 \n",
      " global_max_pooling1d (Glob  (None, 128)               0         \n",
      " alMaxPooling1D)                                                 \n",
      "                                                                 \n",
      " dense (Dense)               (None, 3)                 387       \n",
      "                                                                 \n",
      "=================================================================\n",
      "Total params: 22928583 (87.47 MB)\n",
      "Trainable params: 286083 (1.09 MB)\n",
      "Non-trainable params: 22642500 (86.37 MB)\n",
      "_________________________________________________________________\n"
     ]
    }
   ],
   "source": [
    "from keras.models import load_model\n",
    "tmodel=load_model(\"Models/sentiment_model_pretrained_3classe.h5\") # load the model of 3 classe\n",
    "tmodel.summary()"
   ]
  },
  {
   "cell_type": "code",
   "execution_count": 130,
   "id": "80d3e076-3196-4f38-a7fd-b97374389bc5",
   "metadata": {},
   "outputs": [
    {
     "name": "stdout",
     "output_type": "stream",
     "text": [
      "Model: \"sequential_3\"\n",
      "_________________________________________________________________\n",
      " Layer (type)                Output Shape              Param #   \n",
      "=================================================================\n",
      " embedding (Embedding)       (None, 95, 300)           22642500  \n",
      "                                                                 \n",
      " bidirectional (Bidirection  (None, 95, 128)           186880    \n",
      " al)                                                             \n",
      "                                                                 \n",
      " bidirectional_1 (Bidirecti  (None, 95, 128)           98816     \n",
      " onal)                                                           \n",
      "                                                                 \n",
      " global_max_pooling1d (Glob  (None, 128)               0         \n",
      " alMaxPooling1D)                                                 \n",
      "                                                                 \n",
      " dense1 (Dense)              (None, 150)               19350     \n",
      "                                                                 \n",
      " dense2 (Dense)              (None, 100)               15100     \n",
      "                                                                 \n",
      " dense3 (Dense)              (None, 60)                6060      \n",
      "                                                                 \n",
      " dense4 (Dense)              (None, 7)                 427       \n",
      "                                                                 \n",
      "=================================================================\n",
      "Total params: 22969133 (87.62 MB)\n",
      "Trainable params: 40937 (159.91 KB)\n",
      "Non-trainable params: 22928196 (87.46 MB)\n",
      "_________________________________________________________________\n"
     ]
    }
   ],
   "source": [
    "transfertmodel=getTransfertModel(tmodel)\n",
    "transfertmodel.summary()"
   ]
  },
  {
   "cell_type": "code",
   "execution_count": 131,
   "id": "2002d071-fbc4-4468-b237-6b2f45175707",
   "metadata": {},
   "outputs": [
    {
     "name": "stdout",
     "output_type": "stream",
     "text": [
      "Epoch 1/15\n",
      "22/22 [==============================] - 7s 152ms/step - loss: 1.7753 - accuracy: 0.2913 - val_loss: 1.7464 - val_accuracy: 0.3096\n",
      "Epoch 2/15\n",
      "22/22 [==============================] - 2s 101ms/step - loss: 1.6360 - accuracy: 0.3480 - val_loss: 1.6823 - val_accuracy: 0.3163\n",
      "Epoch 3/15\n",
      "22/22 [==============================] - 2s 100ms/step - loss: 1.5924 - accuracy: 0.3675 - val_loss: 1.6745 - val_accuracy: 0.3363\n",
      "Epoch 4/15\n",
      "22/22 [==============================] - 2s 101ms/step - loss: 1.5758 - accuracy: 0.3607 - val_loss: 1.6672 - val_accuracy: 0.3430\n",
      "Epoch 5/15\n",
      "22/22 [==============================] - 2s 99ms/step - loss: 1.5566 - accuracy: 0.3920 - val_loss: 1.6484 - val_accuracy: 0.3519\n",
      "Epoch 6/15\n",
      "22/22 [==============================] - 2s 107ms/step - loss: 1.5423 - accuracy: 0.3912 - val_loss: 1.6729 - val_accuracy: 0.3341\n",
      "Epoch 7/15\n",
      "22/22 [==============================] - 2s 96ms/step - loss: 1.5273 - accuracy: 0.4014 - val_loss: 1.6630 - val_accuracy: 0.3363\n",
      "Epoch 8/15\n",
      "22/22 [==============================] - 2s 114ms/step - loss: 1.5205 - accuracy: 0.3971 - val_loss: 1.6648 - val_accuracy: 0.3653\n",
      "Epoch 9/15\n",
      "22/22 [==============================] - 3s 127ms/step - loss: 1.5275 - accuracy: 0.3937 - val_loss: 1.6595 - val_accuracy: 0.3341\n",
      "Epoch 10/15\n",
      "22/22 [==============================] - 3s 128ms/step - loss: 1.5013 - accuracy: 0.4217 - val_loss: 1.7092 - val_accuracy: 0.3430\n",
      "Epoch 11/15\n",
      "22/22 [==============================] - 4s 162ms/step - loss: 1.4894 - accuracy: 0.4107 - val_loss: 1.6926 - val_accuracy: 0.3519\n",
      "Epoch 12/15\n",
      "22/22 [==============================] - 4s 164ms/step - loss: 1.4847 - accuracy: 0.4073 - val_loss: 1.6746 - val_accuracy: 0.3497\n",
      "Epoch 13/15\n",
      "22/22 [==============================] - 4s 185ms/step - loss: 1.4581 - accuracy: 0.4352 - val_loss: 1.7155 - val_accuracy: 0.3163\n",
      "Epoch 14/15\n",
      "22/22 [==============================] - 4s 197ms/step - loss: 1.4630 - accuracy: 0.4191 - val_loss: 1.6654 - val_accuracy: 0.3452\n",
      "Epoch 15/15\n",
      "22/22 [==============================] - 3s 114ms/step - loss: 1.4420 - accuracy: 0.4403 - val_loss: 1.6793 - val_accuracy: 0.3497\n"
     ]
    }
   ],
   "source": [
    "from tensorflow.keras.optimizers import RMSprop\n",
    "transfertmodel.compile(optimizer=RMSprop(), loss='categorical_crossentropy',\n",
    "              metrics=['accuracy'])\n",
    "history = transfertmodel.fit(X7_train, Y7_train_one_hot, batch_size=BATCH_SIZE+5, epochs=EPOCHS+8,\n",
    "                    validation_data=(X7_test, Y7_test_one_hot))"
   ]
  },
  {
   "cell_type": "code",
   "execution_count": 79,
   "id": "bca41aa8-a3c5-42aa-8d65-accf824dff86",
   "metadata": {},
   "outputs": [
    {
     "name": "stdout",
     "output_type": "stream",
     "text": [
      "15/15 [==============================] - 2s 39ms/step\n"
     ]
    }
   ],
   "source": [
    "y7_pred = transfertmodel.predict(X7_test)"
   ]
  },
  {
   "cell_type": "markdown",
   "id": "1b33c68b-6fa9-4210-8cc8-20fa85d50c32",
   "metadata": {},
   "source": [
    "### Evaluation"
   ]
  },
  {
   "cell_type": "code",
   "execution_count": 80,
   "id": "b75d3696-57ea-48ab-9a3d-d394f4f7d15c",
   "metadata": {},
   "outputs": [
    {
     "name": "stdout",
     "output_type": "stream",
     "text": [
      "              precision    recall  f1-score   support\n",
      "\n",
      "           0       0.00      0.00      0.00        34\n",
      "           1       0.36      0.43      0.39        95\n",
      "           2       0.46      0.23      0.31        69\n",
      "           3       0.34      0.63      0.44       105\n",
      "           4       0.34      0.19      0.24        58\n",
      "           5       0.00      0.00      0.00        35\n",
      "           6       0.32      0.45      0.38        53\n",
      "\n",
      "    accuracy                           0.35       449\n",
      "   macro avg       0.26      0.28      0.25       449\n",
      "weighted avg       0.31      0.35      0.31       449\n",
      "\n"
     ]
    },
    {
     "name": "stderr",
     "output_type": "stream",
     "text": [
      "/home/tawfekh-d/.local/lib/python3.10/site-packages/sklearn/metrics/_classification.py:1471: UndefinedMetricWarning: Precision and F-score are ill-defined and being set to 0.0 in labels with no predicted samples. Use `zero_division` parameter to control this behavior.\n",
      "  _warn_prf(average, modifier, msg_start, len(result))\n",
      "/home/tawfekh-d/.local/lib/python3.10/site-packages/sklearn/metrics/_classification.py:1471: UndefinedMetricWarning: Precision and F-score are ill-defined and being set to 0.0 in labels with no predicted samples. Use `zero_division` parameter to control this behavior.\n",
      "  _warn_prf(average, modifier, msg_start, len(result))\n",
      "/home/tawfekh-d/.local/lib/python3.10/site-packages/sklearn/metrics/_classification.py:1471: UndefinedMetricWarning: Precision and F-score are ill-defined and being set to 0.0 in labels with no predicted samples. Use `zero_division` parameter to control this behavior.\n",
      "  _warn_prf(average, modifier, msg_start, len(result))\n"
     ]
    }
   ],
   "source": [
    "y7_pred_classes = np.argmax(y7_pred, axis=1)\n",
    "print(classification_report(np.argmax(Y7_test_one_hot, axis=1), y7_pred_classes))"
   ]
  },
  {
   "cell_type": "code",
   "execution_count": 81,
   "id": "7e4ae4ec-aa71-4be7-bdb1-e552f02eec5b",
   "metadata": {},
   "outputs": [
    {
     "name": "stdout",
     "output_type": "stream",
     "text": [
      "Accuracy: 0.3519\n",
      "Precision: 0.3090\n",
      "Recall: 0.3519\n",
      "F1 Score: 0.3101\n"
     ]
    },
    {
     "name": "stderr",
     "output_type": "stream",
     "text": [
      "/home/tawfekh-d/.local/lib/python3.10/site-packages/sklearn/metrics/_classification.py:1471: UndefinedMetricWarning: Precision is ill-defined and being set to 0.0 in labels with no predicted samples. Use `zero_division` parameter to control this behavior.\n",
      "  _warn_prf(average, modifier, msg_start, len(result))\n"
     ]
    }
   ],
   "source": [
    "\n",
    "# Calculate metrics\n",
    "accuracy = np.mean(y7_pred_classes == np.argmax(Y7_test_one_hot, axis=1))\n",
    "precision = precision_score(np.argmax(Y7_test_one_hot, axis=1), y7_pred_classes, average='weighted')\n",
    "recall = recall_score(np.argmax(Y7_test_one_hot, axis=1), y7_pred_classes, average='weighted')\n",
    "f1 = f1_score(np.argmax(Y7_test_one_hot, axis=1), y7_pred_classes, average='weighted')\n",
    "\n",
    "# Print metrics\n",
    "print('Accuracy: {:.4f}'.format(accuracy))\n",
    "print('Precision: {:.4f}'.format(precision))\n",
    "print('Recall: {:.4f}'.format(recall))\n",
    "print('F1 Score: {:.4f}'.format(f1))\n"
   ]
  },
  {
   "cell_type": "code",
   "execution_count": 82,
   "id": "083861dc-48ca-43b0-9dff-de75abc5692b",
   "metadata": {},
   "outputs": [
    {
     "data": {
      "image/png": "[encoded data removed]",
      "text/plain": [
       "<Figure size 640x480 with 1 Axes>"
      ]
     },
     "metadata": {},
     "output_type": "display_data"
    },
    {
     "data": {
      "image/png": "[encoded data removed]",
      "text/plain": [
       "<Figure size 640x480 with 1 Axes>"
      ]
     },
     "metadata": {},
     "output_type": "display_data"
    }
   ],
   "source": [
    "acc,  val_acc  = history.history['accuracy'], history.history['val_accuracy']\n",
    "loss, val_loss = history.history['loss'], history.history['val_loss']\n",
    "epochs = range(len(acc))\n",
    "\n",
    "plt.plot(epochs, acc, 'b', label='Training acc')\n",
    "plt.plot(epochs, val_acc, 'r', label='Validation acc')\n",
    "plt.title('Training and validation accuracy')\n",
    "plt.legend()\n",
    "\n",
    "plt.figure()\n",
    "\n",
    "plt.plot(epochs, loss, 'b', label='Training loss')\n",
    "plt.plot(epochs, val_loss, 'r', label='Validation loss')\n",
    "plt.title('Training and validation loss')\n",
    "plt.legend()\n",
    "\n",
    "plt.show()"
   ]
  },
  {
   "cell_type": "code",
   "execution_count": 132,
   "id": "f1c70e46-1bad-4a9d-9a9d-2a797cbf651c",
   "metadata": {},
   "outputs": [
    {
     "data": {
      "image/png": "[encoded data removed]",
      "text/plain": [
       "<Figure size 800x600 with 2 Axes>"
      ]
     },
     "metadata": {},
     "output_type": "display_data"
    }
   ],
   "source": [
    "cnf_matrix = confusion_matrix(np.argmax(Y7_test_one_hot, axis=1), y7_pred_classes)\n",
    "Y7_test = Y7_test.map({'0: neutral or mixed emotional state can be inferred':'neutral or mixed',\n",
    "                       '-2: moderately negative emotional state can be inferred':'moderately negative',\n",
    "                       '-3: very negative emotional state can be inferred':'very negative',\n",
    "                       '1: slightly positive emotional state can be inferred':'slightly positive',\n",
    "                       '2: moderately positive emotional state can be inferred':'moderately positive',\n",
    "                       '3: very positive emotional state can be inferred':'very positive',\n",
    "                       '-1: slightly negative emotional state can be inferred':'slightly negative'})\n",
    "\n",
    "def plot_confusion_matrix(confusion_mat,Y7_test):\n",
    "    plt.figure(figsize=(8,6))\n",
    "    sns.heatmap(confusion_mat, cmap=plt.cm.Blues, annot=True, fmt='d', \n",
    "                xticklabels=Y7_test.unique(),\n",
    "                yticklabels=Y7_test.unique())\n",
    "    plt.title('Confusion matrix', fontsize=16)\n",
    "    plt.xlabel('Actual label', fontsize=12)\n",
    "    plt.ylabel('Predicted label', fontsize=12)\n",
    "    \n",
    "plot_confusion_matrix(cnf_matrix, Y7_test)"
   ]
  },
  {
   "cell_type": "code",
   "execution_count": 133,
   "id": "9ed77ca6-474c-4f6e-9ff0-5d473521f572",
   "metadata": {},
   "outputs": [
    {
     "name": "stderr",
     "output_type": "stream",
     "text": [
      "/home/tawfekh-d/.local/lib/python3.10/site-packages/keras/src/engine/training.py:3103: UserWarning: You are saving your model as an HDF5 file via `model.save()`. This file format is considered legacy. We recommend using instead the native Keras format, e.g. `model.save('my_model.keras')`.\n",
      "  saving_api.save_model(\n"
     ]
    }
   ],
   "source": [
    "transfertmodel.save(\"Models/sentiment_transfertmodel_7classe.h5\")"
   ]
  },
  {
   "cell_type": "markdown",
   "id": "054b9d6d-bd2d-47aa-af70-5adf8ba7997f",
   "metadata": {},
   "source": [
    "### Early stopping"
   ]
  },
  {
   "cell_type": "code",
   "execution_count": 134,
   "id": "641b9e60-bd70-481c-bc29-debde19c8818",
   "metadata": {},
   "outputs": [
    {
     "name": "stdout",
     "output_type": "stream",
     "text": [
      "Epoch 1/12\n",
      "22/22 [==============================] - 10s 182ms/step - loss: 1.4300 - accuracy: 0.4471 - val_loss: 1.6758 - val_accuracy: 0.3563\n",
      "Epoch 2/12\n",
      "22/22 [==============================] - 2s 107ms/step - loss: 1.4144 - accuracy: 0.4513 - val_loss: 1.6847 - val_accuracy: 0.3563\n",
      "Epoch 3/12\n",
      "22/22 [==============================] - 3s 119ms/step - loss: 1.3943 - accuracy: 0.4522 - val_loss: 1.6830 - val_accuracy: 0.3497\n",
      "Epoch 4/12\n",
      "22/22 [==============================] - 3s 116ms/step - loss: 1.3922 - accuracy: 0.4547 - val_loss: 1.7083 - val_accuracy: 0.3252\n",
      "Epoch 5/12\n",
      "22/22 [==============================] - 3s 125ms/step - loss: 1.3956 - accuracy: 0.4589 - val_loss: 1.7126 - val_accuracy: 0.3274\n",
      "Epoch 6/12\n",
      "22/22 [==============================] - 3s 121ms/step - loss: 1.3832 - accuracy: 0.4708 - val_loss: 1.6860 - val_accuracy: 0.3497\n"
     ]
    },
    {
     "data": {
      "text/plain": [
       "<keras.src.callbacks.History at 0x76aa3ff932b0>"
      ]
     },
     "execution_count": 134,
     "metadata": {},
     "output_type": "execute_result"
    }
   ],
   "source": [
    "from keras.callbacks import EarlyStopping\n",
    "early_stopping = EarlyStopping(monitor='val_loss', patience=5)\n",
    "transfertmodel.compile(optimizer='Adam', loss='categorical_crossentropy', metrics=['accuracy'])\n",
    "transfertmodel.fit(X7_train, Y7_train_one_hot, batch_size=BATCH_SIZE+5, epochs=EPOCHS+5,\n",
    "                    validation_data=(X7_test, Y7_test_one_hot), callbacks=[early_stopping])\n",
    "# (X7_train, Y7_train_one_hot, ,\n",
    "                    # validation_data=(X7_test, Y7_test_one_hot))\n"
   ]
  },
  {
   "cell_type": "code",
   "execution_count": 135,
   "id": "8842dc2f-4a26-4ee1-8a94-f0e49899e202",
   "metadata": {},
   "outputs": [
    {
     "name": "stdout",
     "output_type": "stream",
     "text": [
      "15/15 [==============================] - 2s 39ms/step\n"
     ]
    }
   ],
   "source": [
    "y7_pred = transfertmodel.predict(X7_test)\n",
    "y7_pred_classes = np.argmax(y7_pred, axis=1)"
   ]
  },
  {
   "cell_type": "code",
   "execution_count": 136,
   "id": "ca31356e-dc8a-46f5-a145-c947b90fb2df",
   "metadata": {},
   "outputs": [
    {
     "name": "stdout",
     "output_type": "stream",
     "text": [
      "Accuracy: 0.3497\n",
      "Precision: 0.3038\n",
      "Recall: 0.3497\n",
      "F1 Score: 0.3125\n"
     ]
    }
   ],
   "source": [
    "# Calculate metrics\n",
    "accuracy = np.mean(y7_pred_classes == np.argmax(Y7_test_one_hot, axis=1))\n",
    "precision = precision_score(np.argmax(Y7_test_one_hot, axis=1), y7_pred_classes, average='weighted')\n",
    "recall = recall_score(np.argmax(Y7_test_one_hot, axis=1), y7_pred_classes, average='weighted')\n",
    "f1 = f1_score(np.argmax(Y7_test_one_hot, axis=1), y7_pred_classes, average='weighted')\n",
    "\n",
    "# Print metrics\n",
    "print('Accuracy: {:.4f}'.format(accuracy))\n",
    "print('Precision: {:.4f}'.format(precision))\n",
    "print('Recall: {:.4f}'.format(recall))\n",
    "print('F1 Score: {:.4f}'.format(f1))\n"
   ]
  },
  {
   "cell_type": "code",
   "execution_count": 137,
   "id": "23f644ab-6e2c-448a-8571-93508acd8d6e",
   "metadata": {},
   "outputs": [
    {
     "name": "stderr",
     "output_type": "stream",
     "text": [
      "/home/tawfekh-d/.local/lib/python3.10/site-packages/keras/src/engine/training.py:3103: UserWarning: You are saving your model as an HDF5 file via `model.save()`. This file format is considered legacy. We recommend using instead the native Keras format, e.g. `model.save('my_model.keras')`.\n",
      "  saving_api.save_model(\n"
     ]
    }
   ],
   "source": [
    "transfertmodel.save(\"Models/sentiment_transfertmodel_7classe_earlystopping.h5\")"
   ]
  },
  {
   "cell_type": "code",
   "execution_count": null,
   "id": "01c5a840-b7fa-4cb0-b7e4-2fdb347813c7",
   "metadata": {},
   "outputs": [],
   "source": []
  }
 ],
 "metadata": {
  "kernelspec": {
   "display_name": "Python 3 (ipykernel)",
   "language": "python",
   "name": "python3"
  },
  "language_info": {
   "codemirror_mode": {
    "name": "ipython",
    "version": 3
   },
   "file_extension": ".py",
   "mimetype": "text/x-python",
   "name": "python",
   "nbconvert_exporter": "python",
   "pygments_lexer": "ipython3",
   "version": "3.10.12"
  }
 },
 "nbformat": 4,
 "nbformat_minor": 5
}
